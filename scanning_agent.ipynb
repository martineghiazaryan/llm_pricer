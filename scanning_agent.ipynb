{
 "cells": [
  {
   "cell_type": "markdown",
   "id": "0df0d850-49eb-4a0b-a27a-146969db710d",
   "metadata": {},
   "source": [
    "# The Price is Right\n",
    "\n",
    "Today we'll build another piece of the puzzle: a ScanningAgent that looks for promising deals by subscribing to RSS feeds."
   ]
  },
  {
   "cell_type": "code",
   "execution_count": 1,
   "id": "d3763a79-8a5a-4300-8de4-93e85475af10",
   "metadata": {},
   "outputs": [],
   "source": [
    "# imports\n",
    "\n",
    "import os\n",
    "import json\n",
    "from dotenv import load_dotenv\n",
    "from openai import OpenAI\n",
    "from agents.deals import ScrapedDeal, DealSelection"
   ]
  },
  {
   "cell_type": "code",
   "execution_count": 2,
   "id": "c6469e32-16c3-4443-9475-ade710ef6933",
   "metadata": {},
   "outputs": [],
   "source": [
    "# Initialize and constants\n",
    "\n",
    "load_dotenv()\n",
    "os.environ['OPENAI_API_KEY'] = os.getenv('OPENAI_API_KEY', 'your-key-if-not-using-env')\n",
    "MODEL = 'gpt-4o-mini'\n",
    "openai = OpenAI()"
   ]
  },
  {
   "cell_type": "code",
   "execution_count": 3,
   "id": "afece9db-8cd4-46be-ac57-0b472e84da7d",
   "metadata": {},
   "outputs": [
    {
     "name": "stderr",
     "output_type": "stream",
     "text": [
      "C:\\Users\\Admin\\projects\\llm_engineering\\week8\\agents\\deals.py:27: MarkupResemblesLocatorWarning: The input looks more like a filename than markup. You may want to open this file and pass the filehandle into Beautiful Soup.\n",
      "  description = BeautifulSoup(description, 'html.parser').get_text()\n",
      "100%|████████████████████████████████████████████████████████████████████████████████████| 5/5 [01:32<00:00, 18.53s/it]\n"
     ]
    }
   ],
   "source": [
    "deals = ScrapedDeal.fetch(show_progress=True)"
   ]
  },
  {
   "cell_type": "code",
   "execution_count": 4,
   "id": "8cd15c4d-eb44-4601-bf0c-f945c1d8e3ec",
   "metadata": {},
   "outputs": [
    {
     "data": {
      "text/plain": [
       "49"
      ]
     },
     "execution_count": 4,
     "metadata": {},
     "output_type": "execute_result"
    }
   ],
   "source": [
    "len(deals)"
   ]
  },
  {
   "cell_type": "code",
   "execution_count": 5,
   "id": "4259f30a-6455-49ed-8863-2f9ddd4776cb",
   "metadata": {},
   "outputs": [
    {
     "data": {
      "text/plain": [
       "\"Title: Kobalt Tool Deals at Lowe's: Up to 50% off + free shipping w/ $35\\nDetails: In this sale you'll find discounts on over 100 Kobalt tools, with prices starting from $1.98. We've pictured the Kobalt Tongue and Groove Plier Set for $14.98 (7 off). Choose in-store pickup to dodge the $5.99 shipping fee, or get free shipping with orders of $35 or more by signing up to MyLowe's Rewards. (It's free to join.) Shop Now at Lowe's\\nFeatures: \\nURL: https://www.dealnews.com/Kobalt-Tool-Deals-at-Lowes-Up-to-50-off-free-shipping-w-35/21715771.html?iref=rss-c196\""
      ]
     },
     "execution_count": 5,
     "metadata": {},
     "output_type": "execute_result"
    }
   ],
   "source": [
    "deals[44].describe()"
   ]
  },
  {
   "cell_type": "code",
   "execution_count": 6,
   "id": "8100e5ac-38f5-40c1-a712-08ae12c85038",
   "metadata": {},
   "outputs": [],
   "source": [
    "system_prompt = \"\"\"You identify and summarize the 5 most detailed deals from a list, by selecting deals that have the most detailed, high quality description and the most clear price.\n",
    "Respond strictly in JSON with no explanation, using this format. You should provide the price as a number derived from the description. If the price of a deal isn't clear, do not include that deal in your response.\n",
    "Most important is that you respond with the 5 deals that have the most detailed product description with price. It's not important to mention the terms of the deal; most important is a thorough description of the product.\n",
    "Be careful with products that are described as \"$XXX off\" or \"reduced by $XXX\" - this isn't the actual price of the product. Only respond with products when you are highly confident about the price. \n",
    "\n",
    "{\"deals\": [\n",
    "    {\n",
    "        \"product_description\": \"Your clearly expressed summary of the product in 4-5 sentences. Details of the item are much more important than why it's a good deal. Avoid mentioning discounts and coupons; focus on the item itself. There should be a paragpraph of text for each item you choose.\",\n",
    "        \"price\": 99.99,\n",
    "        \"url\": \"the url as provided\"\n",
    "    },\n",
    "    ...\n",
    "]}\"\"\""
   ]
  },
  {
   "cell_type": "code",
   "execution_count": 7,
   "id": "f4bca170-af71-40c9-9597-1d72980c74d8",
   "metadata": {},
   "outputs": [],
   "source": [
    "user_prompt = \"\"\"Respond with the most promising 5 deals from this list, selecting those which have the most detailed, high quality product description and a clear price.\n",
    "Respond strictly in JSON, and only JSON. You should rephrase the description to be a summary of the product itself, not the terms of the deal.\n",
    "Remember to respond with a paragraph of text in the product_description field for each of the 5 items that you select.\n",
    "Be careful with products that are described as \"$XXX off\" or \"reduced by $XXX\" - this isn't the actual price of the product. Only respond with products when you are highly confident about the price. \n",
    "\n",
    "Deals:\n",
    "\n",
    "\"\"\"\n",
    "user_prompt += '\\n\\n'.join([deal.describe() for deal in deals])"
   ]
  },
  {
   "cell_type": "code",
   "execution_count": 8,
   "id": "020947a6-561b-417b-98a0-a085e31d2ce3",
   "metadata": {},
   "outputs": [
    {
     "name": "stdout",
     "output_type": "stream",
     "text": [
      "Respond with the most promising 5 deals from this list, selecting those which have the most detailed, high quality product description and a clear price.\n",
      "Respond strictly in JSON, and only JSON. You should rephrase the description to be a summary of the product itself, not the terms of the deal.\n",
      "Remember to respond with a paragraph of text in the product_description field for each of the 5 items that you select.\n",
      "Be careful with products that are described as \"$XXX off\" or \"reduced by $XXX\" - this isn't the actual price of the product. Only respond with products when you are highly confident about the price. \n",
      "\n",
      "Deals:\n",
      "\n",
      "Title: Keysmart Smartcard Wallet Tracker 2-Pack for $40 + free shipping\n",
      "Details: Get a two pack for $39.99 which is the best price we've seen per card. Apply coupon code \"DEALNEWS\" to get free shipping. Buy Now at SideDeal\n",
      "Features: Works with Apple Find My App 100mAh battery\n",
      "URL: https://www.dealnews.com/products/Key-Smart/Keysmart-Smartcard-Wallet-Tracker/486791.html?iref=rss-c142\n",
      "\n",
      "Title: Best Buy Outlet Clearance Deals: Up to 80% off + free shipping\n",
      "Details: Save on over 1,500 refurb clearance tech items including laptops, TVs, tablets, phone accessories, and cables. My Best Buy members get free shipping. (It's free to join. Shipping is free for everyone over $35. Pickup may also be available.) Shop Now at Best Buy\n",
      "Features: \n",
      "URL: https://www.dealnews.com/Best-Buy-Outlet-Clearance-Deals-Up-to-80-off-free-shipping/21715781.html?iref=rss-c142\n",
      "\n",
      "Title: Best Buy Top Deals Sale: Up to 60% off 1,000s of tech items + free shipping\n",
      "Details: In this section you'll find discounts on thousands of tech items, including TVs, Apple tech, laptops, headphones, and smartwatches. My Best Buy members get free shipping on everything too (it's free to join). Shop Now at Best Buy\n",
      "Features: \n",
      "URL: https://www.dealnews.com/Best-Buy-Top-Deals-Sale-Up-to-60-off-1-000-s-of-tech-items-free-shipping/21715780.html?iref=rss-c142\n",
      "\n",
      "Title: Refurb Samsung Galaxy Deals at eBay: Up to 71%\n"
     ]
    }
   ],
   "source": [
    "print(user_prompt[:2000])"
   ]
  },
  {
   "cell_type": "code",
   "execution_count": 9,
   "id": "7de46f74-868c-4127-8a68-cf2da7d600bb",
   "metadata": {},
   "outputs": [],
   "source": [
    "def get_recommendations():\n",
    "    completion = openai.beta.chat.completions.parse(\n",
    "        model=\"gpt-4o-mini\",\n",
    "        messages=[\n",
    "            {\"role\": \"system\", \"content\": system_prompt},\n",
    "            {\"role\": \"user\", \"content\": user_prompt}\n",
    "      ],\n",
    "        response_format=DealSelection\n",
    "    )\n",
    "    result = completion.choices[0].message.parsed\n",
    "    return result"
   ]
  },
  {
   "cell_type": "code",
   "execution_count": 10,
   "id": "4c06270d-8c17-4d5a-9cfe-b6cefe788d5e",
   "metadata": {},
   "outputs": [],
   "source": [
    "result = get_recommendations()"
   ]
  },
  {
   "cell_type": "code",
   "execution_count": 11,
   "id": "84e62845-3338-441a-8161-c70097af4773",
   "metadata": {},
   "outputs": [
    {
     "data": {
      "text/plain": [
       "5"
      ]
     },
     "execution_count": 11,
     "metadata": {},
     "output_type": "execute_result"
    }
   ],
   "source": [
    "len(result.deals)"
   ]
  },
  {
   "cell_type": "code",
   "execution_count": 12,
   "id": "e5554a0a-ae40-4684-ad3e-faa3d22e030c",
   "metadata": {},
   "outputs": [
    {
     "data": {
      "text/plain": [
       "Deal(product_description='The Samsung Galaxy S23+ is a refurbished smartphone featuring a 256GB storage capacity. This device boasts advanced features and premium performance, powered by a One-Year Allstate warranty, offering peace of mind with your purchase. The Galaxy S23+ is a well-rounded smartphone that meets both productivity and entertainment needs.', price=490.0, url='https://www.dealnews.com/Refurb-Samsung-Deals-at-eBay-Up-to-60-off-free-shipping/21715727.html?iref=rss-c142')"
      ]
     },
     "execution_count": 12,
     "metadata": {},
     "output_type": "execute_result"
    }
   ],
   "source": [
    "result.deals[1]"
   ]
  },
  {
   "cell_type": "code",
   "execution_count": 13,
   "id": "8bdc57fb-7497-47af-a643-6ba5a21cc17e",
   "metadata": {},
   "outputs": [],
   "source": [
    "from agents.scanner_agent import ScannerAgent"
   ]
  },
  {
   "cell_type": "code",
   "execution_count": 14,
   "id": "132278bc-217a-43a6-b6c4-724140c6a225",
   "metadata": {},
   "outputs": [],
   "source": [
    "agent = ScannerAgent()\n",
    "result = agent.scan()"
   ]
  },
  {
   "cell_type": "code",
   "execution_count": 15,
   "id": "2e1d013a-c930-4dad-901b-41433379e14b",
   "metadata": {},
   "outputs": [
    {
     "data": {
      "text/plain": [
       "DealSelection(deals=[Deal(product_description=\"The Keysmart Smartcard Wallet Tracker is a compact device designed to help you keep track of your wallet by utilizing Apple's Find My App. Each tracker is powered by a rechargeable 100mAh battery, ensuring prolonged usage without frequent replacements. Offered in a convenient two-pack, this product is ideal for individuals looking for a reliable way to locate their wallets when misplaced. The pack is perfect for sharing with a partner or keeping one as a backup, adding an extra layer of security to your daily routine.\", price=39.99, url='https://www.dealnews.com/products/Key-Smart/Keysmart-Smartcard-Wallet-Tracker/486791.html?iref=rss-c142'), Deal(product_description='The Certified Refurb Sony WF-1000XM5 Wireless Noise Canceling Headphones provide an immersive audio experience with their advanced noise-cancellation technology. They are equipped with ambient sound modes, allowing users to control their listening depending on their environment. This model significantly reduces background noise while delivering high-quality sound, making them suitable for both casual listening and focused work sessions. With a 2-year Allstate warranty, these refurbished headphones represent great value for audiophiles seeking premium quality at a lower price.', price=115.0, url='https://www.dealnews.com/products/Sony-Electronics/Certified-Refurb-Sony-WF-1000-XM5-Wireless-Noise-Canceling-Headphones/461990.html?iref=rss-c142'), Deal(product_description='The Refurb Unlocked Apple iPhone 14 offers a 128GB storage capacity, making it a suitable choice for anyone needing ample space for apps, photos, and videos. As a refurbished device, it has been tested for quality and functionality, ensuring users receive a reliable product backed by a 1-year warranty. The iPhone 14 features an advanced camera system, a vivid display, and improved battery life, making it a solid choice for both tech enthusiasts and casual users alike. This offering represents a cost-effective pathway to owning one of Apple’s latest smartphones.', price=345.0, url='https://www.dealnews.com/products/Apple/Refurb-Unlocked-Apple-iPhone-14-128-GB-Smartphone/485347.html?iref=rss-c142'), Deal(product_description='The Skytech Chronos 7th-Gen. Ryzen 7 Gaming PC Desktop is a powerful gaming rig featuring the latest AMD Ryzen 7 CPU with a clock speed of up to 4.7GHz. It includes a high-performance Nvidia GeForce RTX 5080 GPU, ideal for running demanding games at high settings. With 32GB of RAM and a 2TB NVMe M.2 SSD, it provides fast load times and plenty of storage for games and applications. This pre-built desktop system is perfect for gamers seeking a powerful and immersive gaming experience right out of the box.', price=2700.0, url='https://www.dealnews.com/products/Sky-Tech/Skytech-Chronos-7-th-Gen-Ryzen-7-Gaming-PC-Desktop-w-RTX-5080/486747.html?iref=rss-c39'), Deal(product_description='The Samsung Odyssey G65B is a 32-inch curved gaming monitor that showcases stunning 1440p HDR visuals with a 240Hz refresh rate for incredibly smooth gameplay. It features incredibly fast response times and AMD FreeSync technology, making it ideal for competitive gaming. The monitor’s 1ms (GtG) response time enhances visual clarity in fast-paced games, while its curvature immerses you deeper into your gaming world. With its durable design and advanced imaging technology, this monitor is a top choice for serious gamers seeking an edge.', price=500.0, url='https://www.dealnews.com/products/Samsung/Samsung-Odyssey-G65-B-32-1440-p-HDR-240-Hz-Curved-Free-Sync-Gaming-Monitor/486695.html?iref=rss-c39')])"
      ]
     },
     "execution_count": 15,
     "metadata": {},
     "output_type": "execute_result"
    }
   ],
   "source": [
    "result"
   ]
  },
  {
   "cell_type": "code",
   "execution_count": null,
   "id": "5ee2e837-1f1d-42d4-8bc4-51cccc343006",
   "metadata": {},
   "outputs": [],
   "source": []
  }
 ],
 "metadata": {
  "kernelspec": {
   "display_name": "Python 3 (ipykernel)",
   "language": "python",
   "name": "python3"
  },
  "language_info": {
   "codemirror_mode": {
    "name": "ipython",
    "version": 3
   },
   "file_extension": ".py",
   "mimetype": "text/x-python",
   "name": "python",
   "nbconvert_exporter": "python",
   "pygments_lexer": "ipython3",
   "version": "3.11.11"
  }
 },
 "nbformat": 4,
 "nbformat_minor": 5
}
