{
 "cells": [
  {
   "cell_type": "markdown",
   "id": "046fd8f8-ad14-4c7f-b759-fec52f5b5306",
   "metadata": {},
   "source": [
    "# The Price is Right\n",
    "\n",
    "\n",
    "1. This notebook: create a RAG database with our 400,000 training data"
   ]
  },
  {
   "cell_type": "code",
   "execution_count": 1,
   "id": "993a2a24-1a58-42be-8034-6d116fb8d786",
   "metadata": {},
   "outputs": [],
   "source": [
    "# imports\n",
    "\n",
    "import os\n",
    "import re\n",
    "import math\n",
    "import json\n",
    "from tqdm import tqdm\n",
    "import random\n",
    "from dotenv import load_dotenv\n",
    "from huggingface_hub import login\n",
    "import numpy as np\n",
    "import pickle\n",
    "from sentence_transformers import SentenceTransformer\n",
    "from datasets import load_dataset\n",
    "import chromadb\n",
    "from items import Item\n",
    "from sklearn.manifold import TSNE\n",
    "import plotly.graph_objects as go"
   ]
  },
  {
   "cell_type": "code",
   "execution_count": 2,
   "id": "2359ccc0-dbf2-4b1e-9473-e472b32f548b",
   "metadata": {},
   "outputs": [],
   "source": [
    "# environment\n",
    "\n",
    "load_dotenv()\n",
    "os.environ['OPENAI_API_KEY'] = os.getenv('OPENAI_API_KEY', 'your-key-if-not-using-env')\n",
    "os.environ['HF_TOKEN'] = os.getenv('HF_TOKEN', 'your-key-if-not-using-env')\n",
    "DB = \"products_vectorstore\""
   ]
  },
  {
   "cell_type": "code",
   "execution_count": 3,
   "id": "645167e6-cf0d-42d2-949f-1089a25a2841",
   "metadata": {},
   "outputs": [
    {
     "name": "stderr",
     "output_type": "stream",
     "text": [
      "Note: Environment variable`HF_TOKEN` is set and is the current active token independently from the token you've just configured.\n"
     ]
    }
   ],
   "source": [
    "# Log in to HuggingFace\n",
    "\n",
    "hf_token = os.environ['HF_TOKEN']\n",
    "login(hf_token, add_to_git_credential=True)"
   ]
  },
  {
   "cell_type": "code",
   "execution_count": 4,
   "id": "688bd995-ec3e-43cd-8179-7fe14b275877",
   "metadata": {},
   "outputs": [],
   "source": [
    "# With train.pkl in this folder, you can run this:\n",
    "\n",
    "with open('train.pkl', 'rb') as file:\n",
    "    train = pickle.load(file)"
   ]
  },
  {
   "cell_type": "code",
   "execution_count": 5,
   "id": "2817eaf5-4302-4a18-9148-d1062e3b3dbb",
   "metadata": {},
   "outputs": [
    {
     "data": {
      "text/plain": [
       "'How much does this cost to the nearest dollar?\\n\\nDelphi FG0166 Fuel Pump Module\\nDelphi brings 80 years of OE Heritage into each Delphi pump, ensuring quality and fitment for each Delphi part. Part is validated, tested and matched to the right vehicle application Delphi brings 80 years of OE Heritage into each Delphi assembly, ensuring quality and fitment for each Delphi part Always be sure to check and clean fuel tank to avoid unnecessary returns Rigorous OE-testing ensures the pump can withstand extreme temperatures Brand Delphi, Fit Type Vehicle Specific Fit, Dimensions LxWxH 19.7 x 7.7 x 5.1 inches, Weight 2.2 Pounds, Auto Part Position Unknown, Operation Mode Mechanical, Manufacturer Delphi, Model FUEL PUMP, Dimensions 19.7\\n\\nPrice is $227.00'"
      ]
     },
     "execution_count": 5,
     "metadata": {},
     "output_type": "execute_result"
    }
   ],
   "source": [
    "train[0].prompt"
   ]
  },
  {
   "cell_type": "markdown",
   "id": "9ae1ba16-7e80-4096-ac88-64ef8edcc80c",
   "metadata": {},
   "source": [
    "# Now create a Chroma Datastore\n",
    "\n",
    "In Week 5, we created a Chroma datastore with 123 documents representing chunks of objects from our fictional company Insurellm.\n",
    "\n",
    "Now we will create a Chroma datastore with 400,000 products from our training dataset! It's getting real!\n",
    "\n",
    "Note that we won't be using LangChain, but the API is very straightforward and consistent with before."
   ]
  },
  {
   "cell_type": "code",
   "execution_count": 6,
   "id": "f4aab95e-d719-4476-b6e7-e248120df25a",
   "metadata": {},
   "outputs": [],
   "source": [
    "client = chromadb.PersistentClient(path=DB)"
   ]
  },
  {
   "cell_type": "code",
   "execution_count": 7,
   "id": "5f95dafd-ab80-464e-ba8a-dec7a2424780",
   "metadata": {},
   "outputs": [],
   "source": [
    "# Check if the collection exists and delete it if it does\n",
    "collection_name = \"products\"\n",
    "existing_collection_names = [collection.name for collection in client.list_collections()]\n",
    "if collection_name in existing_collection_names:\n",
    "    client.delete_collection(collection_name)\n",
    "    print(f\"Deleted existing collection: {collection_name}\")\n",
    "\n",
    "collection = client.create_collection(collection_name)"
   ]
  },
  {
   "cell_type": "markdown",
   "id": "d392ed28-203d-4e73-be87-ac1390bdf722",
   "metadata": {},
   "source": [
    "# Introducing the SentenceTransfomer\n",
    "\n",
    "The all-MiniLM is a very useful model from HuggingFace that maps sentences & paragraphs to a 384 dimensional dense vector space and is ideal for tasks like semantic search.\n",
    "\n",
    "https://huggingface.co/sentence-transformers/all-MiniLM-L6-v2\n",
    "\n",
    "It can run pretty quickly locally.\n",
    "\n",
    "Last time we used OpenAI embeddings to produce vector embeddings. Benefits compared to OpenAI embeddings:\n",
    "1. It's free and fast!\n",
    "3. We can run it locally, so the data never leaves our box - might be useful if you're building a personal RAG\n"
   ]
  },
  {
   "cell_type": "code",
   "execution_count": 8,
   "id": "a87db200-d19d-44bf-acbd-15c45c70f5c9",
   "metadata": {},
   "outputs": [],
   "source": [
    "model = SentenceTransformer('sentence-transformers/all-MiniLM-L6-v2')"
   ]
  },
  {
   "cell_type": "code",
   "execution_count": 9,
   "id": "9b23a025-4c35-4d3a-96ad-b956cad37b0a",
   "metadata": {},
   "outputs": [],
   "source": [
    "# Pass in a list of texts, get back a numpy array of vectors\n",
    "\n",
    "vector = model.encode([\"Well hi there\"])[0]"
   ]
  },
  {
   "cell_type": "code",
   "execution_count": 10,
   "id": "8adde63f-e732-4f7c-bba9-f8b2a469f14e",
   "metadata": {},
   "outputs": [
    {
     "data": {
      "text/plain": [
       "array([-9.46715623e-02,  4.27619517e-02,  5.51619940e-02, -5.10977814e-04,\n",
       "        1.16203167e-02, -6.80130422e-02,  2.76404936e-02,  6.06974065e-02,\n",
       "        2.88529955e-02, -1.74127873e-02, -4.94346134e-02,  2.30992399e-02,\n",
       "       -1.28614800e-02, -4.31402475e-02,  2.17509978e-02,  4.26548868e-02,\n",
       "        5.10500483e-02, -7.79727474e-02, -1.23247214e-01,  3.67455222e-02,\n",
       "        4.54117730e-03,  9.47938412e-02, -5.53098321e-02,  1.70641020e-02,\n",
       "       -2.92873029e-02, -4.47124317e-02,  2.06784457e-02,  6.39320463e-02,\n",
       "        2.27428246e-02,  4.87789623e-02, -2.33503687e-03,  4.72859442e-02,\n",
       "       -2.86258887e-02,  2.30624359e-02,  2.45131366e-02,  3.95681225e-02,\n",
       "       -4.33176123e-02, -1.02316633e-01,  2.79871817e-03,  2.39304006e-02,\n",
       "        1.61556266e-02, -8.99075996e-03,  2.07255092e-02,  6.40122592e-02,\n",
       "        6.89179078e-02, -6.98360726e-02,  2.89759669e-03, -8.10990036e-02,\n",
       "        1.71123017e-02,  2.50657834e-03, -1.06529079e-01, -4.87732552e-02,\n",
       "       -1.67762470e-02, -2.28661932e-02,  1.14816628e-01,  4.87413146e-02,\n",
       "       -1.64963212e-02, -6.90831393e-02,  1.13612123e-01, -7.18485489e-02,\n",
       "       -9.01570991e-02,  3.92663787e-06, -8.66769552e-02, -4.05916721e-02,\n",
       "        3.71317342e-02, -1.77618992e-02, -5.57464361e-02, -4.57097739e-02,\n",
       "       -5.43141477e-02, -4.00611944e-02, -4.60227393e-02,  2.82194056e-02,\n",
       "       -2.33606938e-02,  1.44406697e-02, -1.52777052e-02, -4.34328392e-02,\n",
       "        6.81275055e-02,  8.21894705e-02,  7.83891045e-03, -2.85973419e-02,\n",
       "        6.14309274e-02, -4.92685251e-02,  3.27054458e-03, -2.72682570e-02,\n",
       "       -4.59346436e-02, -2.60167588e-02,  5.70649579e-02, -5.86431241e-04,\n",
       "       -4.37077023e-02, -2.47803400e-04, -8.73550624e-02,  3.48776728e-02,\n",
       "        1.39326844e-02, -1.60043258e-02,  2.86958255e-02, -9.48595479e-02,\n",
       "        9.40612629e-02,  5.92685677e-02, -8.65014642e-02,  1.45011440e-01,\n",
       "        2.35388447e-02,  3.43325511e-02,  2.51519319e-04,  7.15541393e-02,\n",
       "       -3.12182456e-02,  3.86666358e-02, -2.47745272e-02,  6.52674288e-02,\n",
       "       -8.28817189e-02, -2.80247778e-02,  9.34544019e-03, -7.85531662e-03,\n",
       "        5.30728102e-02,  2.96895728e-02,  3.27329114e-02,  4.94737960e-02,\n",
       "        2.52208710e-02,  4.67068441e-02,  5.03403246e-02, -7.23745525e-02,\n",
       "        2.54435074e-02, -3.67216282e-02,  1.27570378e-02,  1.46063836e-02,\n",
       "        2.11492851e-02, -5.56908958e-02, -9.18514654e-03, -5.63400575e-34,\n",
       "        9.58769917e-02,  5.94577938e-02,  5.11445180e-02,  3.36359777e-02,\n",
       "       -1.34414490e-02, -2.77202353e-02, -3.48436534e-02,  1.80352367e-02,\n",
       "       -2.53210701e-02,  6.73586410e-03,  5.47841005e-02, -3.60574014e-02,\n",
       "       -5.20870723e-02, -2.90345177e-02,  4.38964274e-03,  6.50023222e-02,\n",
       "        3.07485536e-02,  2.00221203e-02,  1.73042587e-03,  2.96725496e-03,\n",
       "        3.40951770e-03, -6.78144768e-02,  3.41305137e-02,  8.37874785e-03,\n",
       "        5.39904237e-02,  2.70389691e-02,  7.84119964e-02, -1.30136251e-01,\n",
       "        4.84649725e-02,  5.14179505e-02, -7.94685539e-03,  5.57881640e-03,\n",
       "       -5.31025454e-02,  3.81298661e-02, -3.05512864e-02, -7.69778490e-02,\n",
       "        1.20531349e-02, -4.08993661e-02, -8.69358778e-02,  6.38056099e-02,\n",
       "        1.68674793e-02,  1.68740703e-03,  6.28894418e-02, -1.67711563e-02,\n",
       "        2.15585977e-02,  7.10097083e-04,  2.81034736e-03, -8.89795180e-03,\n",
       "       -1.80886537e-02, -2.16217022e-02, -5.59150390e-02,  1.78773999e-02,\n",
       "       -9.27093551e-02,  7.27911014e-03, -1.27753556e-01, -4.86937836e-02,\n",
       "        1.45871937e-02, -1.62752420e-02,  6.75622895e-02,  3.87702137e-02,\n",
       "        7.23296031e-02,  9.14991796e-02, -9.65291560e-02,  4.84791659e-02,\n",
       "       -1.06274195e-01, -1.05042579e-02,  8.90349895e-02, -8.07525516e-02,\n",
       "        7.87080973e-02, -2.04917602e-02, -5.55080995e-02, -3.31532732e-02,\n",
       "       -2.14429647e-02,  4.94701043e-02, -7.05119073e-02,  6.63998574e-02,\n",
       "        7.39671513e-02, -2.70118564e-03,  1.62262153e-02, -3.98228690e-02,\n",
       "        5.94092235e-02, -7.14369817e-03, -3.33479866e-02,  2.30419505e-02,\n",
       "        1.87186431e-02, -6.15725517e-02, -8.55446095e-04, -1.05786696e-01,\n",
       "       -8.43619183e-02, -3.92994210e-02, -3.16447690e-02,  6.60644993e-02,\n",
       "        9.41816270e-02, -8.35983083e-02,  9.50883981e-03,  1.25507268e-34,\n",
       "        6.38198107e-02,  2.11371016e-02, -1.65899955e-02,  1.88641194e-02,\n",
       "       -5.57018928e-02,  1.82809692e-03, -1.37587646e-02,  8.16279650e-02,\n",
       "       -9.13296863e-02,  7.06855655e-02,  6.79991841e-02, -5.44536076e-02,\n",
       "        3.80394384e-02,  3.80508020e-03,  1.03689827e-01,  7.32824090e-04,\n",
       "        2.95661185e-02,  4.19424027e-02, -1.20444417e-01,  1.24932071e-02,\n",
       "       -5.53506203e-02,  1.75228417e-02, -2.28164550e-02, -5.79298772e-02,\n",
       "        9.42932721e-03, -5.42278728e-03, -3.94939119e-03,  2.82348767e-02,\n",
       "       -1.28066942e-01, -1.31304832e-02,  7.42957368e-02, -1.74529869e-02,\n",
       "       -9.72758979e-02,  8.25615507e-03,  2.06901059e-02, -5.29769110e-03,\n",
       "       -1.37695950e-02, -3.50974090e-02,  1.74979046e-02, -1.76233146e-02,\n",
       "       -6.50824904e-02, -3.84675898e-02, -8.76396000e-02,  3.21292281e-02,\n",
       "        2.55018775e-03, -2.09378768e-02,  5.55309765e-02,  2.57095378e-02,\n",
       "       -2.94735655e-02,  1.25047425e-02, -6.83465973e-02, -8.00623521e-02,\n",
       "       -1.46906860e-02,  1.03744147e-02, -8.51863027e-02, -1.10539710e-02,\n",
       "        2.14596502e-02,  4.08609211e-02,  3.31647024e-02, -2.76757479e-02,\n",
       "       -2.01877337e-02,  8.98883492e-03,  3.92048582e-02,  1.15103327e-01,\n",
       "        5.50440699e-02,  2.72755418e-02, -1.09526701e-01, -1.72622222e-02,\n",
       "        1.33438278e-02, -1.73702352e-02, -5.04368590e-03, -2.00293288e-02,\n",
       "        1.16672359e-01, -1.84323229e-02,  3.70628126e-02,  1.60885397e-02,\n",
       "        3.48830111e-02,  5.50575033e-02, -6.60798186e-03,  7.06828386e-02,\n",
       "        4.07850146e-02, -1.43314870e-02, -2.85450346e-03,  2.74252575e-02,\n",
       "       -4.26768884e-02,  1.26583325e-02,  3.34343053e-02,  1.62645094e-02,\n",
       "        1.19263614e-02, -2.92118862e-02,  2.73978207e-02,  3.44304889e-02,\n",
       "        2.52832230e-02,  3.07515040e-02,  3.22557352e-02, -1.74628525e-08,\n",
       "       -1.52690560e-02,  5.37677342e-03,  1.41246513e-01,  5.08366786e-02,\n",
       "        5.32256551e-02,  9.67938527e-02,  4.33674231e-02, -6.48309710e-03,\n",
       "        1.58604216e-02,  4.05631177e-02,  6.94984943e-02,  6.04904927e-02,\n",
       "       -6.26189411e-02, -3.96144539e-02,  1.10648796e-01,  1.67735647e-02,\n",
       "       -7.68697495e-03,  2.59615388e-02, -5.28792739e-02, -2.22318713e-02,\n",
       "        1.74595919e-02,  4.75340113e-02,  3.27674411e-02, -4.59685810e-02,\n",
       "        2.01769788e-02, -1.60875730e-02, -1.58614032e-02, -1.66658070e-02,\n",
       "       -3.05247232e-02, -3.87908220e-02, -1.27654700e-02,  6.57611042e-02,\n",
       "       -2.22503189e-02, -9.44996066e-03,  2.32080687e-02,  2.66038720e-02,\n",
       "        2.14203335e-02, -7.54584605e-03,  8.84751827e-02, -9.43513662e-02,\n",
       "       -5.74870296e-02, -7.77098089e-02,  1.95790851e-03, -1.50347892e-02,\n",
       "       -8.08496866e-03,  1.88218039e-02,  8.42513517e-03, -3.78592163e-02,\n",
       "        1.24534825e-02, -7.94996098e-02, -2.15789881e-02,  1.20276120e-02,\n",
       "        1.74871236e-02,  8.74479413e-02,  6.64091259e-02,  3.13737132e-02,\n",
       "       -1.00628817e-02,  2.07700860e-02, -5.20163402e-02, -8.91335867e-03,\n",
       "        1.48542359e-01, -2.51271296e-03,  9.93156210e-02,  2.34929621e-02],\n",
       "      dtype=float32)"
      ]
     },
     "execution_count": 10,
     "metadata": {},
     "output_type": "execute_result"
    }
   ],
   "source": [
    "vector"
   ]
  },
  {
   "cell_type": "code",
   "execution_count": 11,
   "id": "38de1bf8-c9b5-45b4-9f4b-86af93b3f80d",
   "metadata": {},
   "outputs": [],
   "source": [
    "def description(item):\n",
    "    text = item.prompt.replace(\"How much does this cost to the nearest dollar?\\n\\n\", \"\")\n",
    "    return text.split(\"\\n\\nPrice is $\")[0]"
   ]
  },
  {
   "cell_type": "code",
   "execution_count": 12,
   "id": "8c1205bd-4692-44ef-8ea4-69f255354537",
   "metadata": {},
   "outputs": [
    {
     "data": {
      "text/plain": [
       "'Delphi FG0166 Fuel Pump Module\\nDelphi brings 80 years of OE Heritage into each Delphi pump, ensuring quality and fitment for each Delphi part. Part is validated, tested and matched to the right vehicle application Delphi brings 80 years of OE Heritage into each Delphi assembly, ensuring quality and fitment for each Delphi part Always be sure to check and clean fuel tank to avoid unnecessary returns Rigorous OE-testing ensures the pump can withstand extreme temperatures Brand Delphi, Fit Type Vehicle Specific Fit, Dimensions LxWxH 19.7 x 7.7 x 5.1 inches, Weight 2.2 Pounds, Auto Part Position Unknown, Operation Mode Mechanical, Manufacturer Delphi, Model FUEL PUMP, Dimensions 19.7'"
      ]
     },
     "execution_count": 12,
     "metadata": {},
     "output_type": "execute_result"
    }
   ],
   "source": [
    "description(train[0])"
   ]
  },
  {
   "cell_type": "code",
   "execution_count": 13,
   "id": "8c79e2fe-1f50-4ebf-9a93-34f3088f2996",
   "metadata": {},
   "outputs": [
    {
     "name": "stderr",
     "output_type": "stream",
     "text": [
      "100%|██████████████████████████████████████████████████████████████████████████████| 400/400 [6:40:42<00:00, 60.11s/it]\n"
     ]
    }
   ],
   "source": [
    "for i in tqdm(range(0, len(train), 1000)):\n",
    "    documents = [description(item) for item in train[i: i+1000]]\n",
    "    vectors = model.encode(documents).astype(float).tolist()\n",
    "    metadatas = [{\"category\": item.category, \"price\": item.price} for item in train[i: i+1000]]\n",
    "    ids = [f\"doc_{j}\" for j in range(i, i+1000)]\n",
    "    collection.add(\n",
    "        ids=ids,\n",
    "        documents=documents,\n",
    "        embeddings=vectors,\n",
    "        metadatas=metadatas\n",
    "    )"
   ]
  },
  {
   "cell_type": "code",
   "execution_count": 15,
   "id": "a3650e7d-3a12-48eb-a7a4-9d65db2641e2",
   "metadata": {},
   "outputs": [
    {
     "name": "stdout",
     "output_type": "stream",
     "text": [
      "Success!!\n"
     ]
    }
   ],
   "source": [
    "print(\"Success!!\")"
   ]
  }
 ],
 "metadata": {
  "kernelspec": {
   "display_name": "Python 3 (ipykernel)",
   "language": "python",
   "name": "python3"
  },
  "language_info": {
   "codemirror_mode": {
    "name": "ipython",
    "version": 3
   },
   "file_extension": ".py",
   "mimetype": "text/x-python",
   "name": "python",
   "nbconvert_exporter": "python",
   "pygments_lexer": "ipython3",
   "version": "3.11.11"
  }
 },
 "nbformat": 4,
 "nbformat_minor": 5
}
