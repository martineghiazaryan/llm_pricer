{
 "cells": [
  {
   "cell_type": "markdown",
   "id": "2a0f44a9-37cd-4aa5-9b20-cfc0dc8dfc0a",
   "metadata": {},
   "source": [
    "# The Price is Right\n",
    "\n",
    "1. This notebook: build and test a RAG pipeline with GPT-4o-mini\n"
   ]
  },
  {
   "cell_type": "code",
   "execution_count": 1,
   "id": "fbcdfea8-7241-46d7-a771-c0381a3e7063",
   "metadata": {},
   "outputs": [],
   "source": [
    "# imports\n",
    "\n",
    "import os\n",
    "import re\n",
    "import math\n",
    "import json\n",
    "from tqdm import tqdm\n",
    "import random\n",
    "from dotenv import load_dotenv\n",
    "from huggingface_hub import login\n",
    "import matplotlib.pyplot as plt\n",
    "import numpy as np\n",
    "import pickle\n",
    "from openai import OpenAI\n",
    "from sentence_transformers import SentenceTransformer\n",
    "from datasets import load_dataset\n",
    "import chromadb\n",
    "from items import Item\n",
    "from testing import Tester"
   ]
  },
  {
   "cell_type": "code",
   "execution_count": 2,
   "id": "98666e73-938e-469d-8987-e6e55ba5e034",
   "metadata": {},
   "outputs": [],
   "source": [
    "# environment\n",
    "\n",
    "load_dotenv()\n",
    "os.environ['OPENAI_API_KEY'] = os.getenv('OPENAI_API_KEY', 'your-key-if-not-using-env')\n",
    "os.environ['HF_TOKEN'] = os.getenv('HF_TOKEN', 'your-key-if-not-using-env')"
   ]
  },
  {
   "cell_type": "code",
   "execution_count": 3,
   "id": "9a25a5cf-8f6c-4b5d-ad98-fdd096f5adf8",
   "metadata": {},
   "outputs": [],
   "source": [
    "openai = OpenAI()"
   ]
  },
  {
   "cell_type": "code",
   "execution_count": 4,
   "id": "dc696493-0b6f-48aa-9fa8-b1ae0ecaf3cd",
   "metadata": {},
   "outputs": [],
   "source": [
    "# Load in the test pickle file\n",
    "# See the section \"Back to the PKL files\" in the day2.0 notebook\n",
    "# for instructions on obtaining this test.pkl file\n",
    "\n",
    "with open('test.pkl', 'rb') as file:\n",
    "    test = pickle.load(file)"
   ]
  },
  {
   "cell_type": "code",
   "execution_count": 5,
   "id": "33d38a06-0c0d-4e96-94d1-35ee183416ce",
   "metadata": {},
   "outputs": [],
   "source": [
    "def make_context(similars, prices):\n",
    "    message = \"To provide some context, here are some other items that might be similar to the item you need to estimate.\\n\\n\"\n",
    "    for similar, price in zip(similars, prices):\n",
    "        message += f\"Potentially related product:\\n{similar}\\nPrice is ${price:.2f}\\n\\n\"\n",
    "    return message"
   ]
  },
  {
   "cell_type": "code",
   "execution_count": 6,
   "id": "61f203b7-63b6-48ed-869b-e393b5bfcad3",
   "metadata": {},
   "outputs": [],
   "source": [
    "def messages_for(item, similars, prices):\n",
    "    system_message = \"You estimate prices of items. Reply only with the price, no explanation\"\n",
    "    user_prompt = make_context(similars, prices)\n",
    "    user_prompt += \"And now the question for you:\\n\\n\"\n",
    "    user_prompt += item.test_prompt().replace(\" to the nearest dollar\",\"\").replace(\"\\n\\nPrice is $\",\"\")\n",
    "    return [\n",
    "        {\"role\": \"system\", \"content\": system_message},\n",
    "        {\"role\": \"user\", \"content\": user_prompt},\n",
    "        {\"role\": \"assistant\", \"content\": \"Price is $\"}\n",
    "    ]"
   ]
  },
  {
   "cell_type": "code",
   "execution_count": 7,
   "id": "b26f405d-6e1f-4caa-b97f-1f62cd9d1ebc",
   "metadata": {},
   "outputs": [],
   "source": [
    "DB = \"products_vectorstore\""
   ]
  },
  {
   "cell_type": "code",
   "execution_count": 8,
   "id": "d26a1104-cd11-4361-ab25-85fb576e0582",
   "metadata": {},
   "outputs": [],
   "source": [
    "client = chromadb.PersistentClient(path=DB)\n",
    "collection = client.get_or_create_collection('products')"
   ]
  },
  {
   "cell_type": "code",
   "execution_count": 9,
   "id": "1e339760-96d8-4485-bec7-43fadcd30c4d",
   "metadata": {},
   "outputs": [],
   "source": [
    "def description(item):\n",
    "    text = item.prompt.replace(\"How much does this cost to the nearest dollar?\\n\\n\", \"\")\n",
    "    return text.split(\"\\n\\nPrice is $\")[0]"
   ]
  },
  {
   "cell_type": "code",
   "execution_count": 10,
   "id": "a1bd0c87-8bad-43d9-9461-bb69a9e0e22c",
   "metadata": {},
   "outputs": [
    {
     "data": {
      "text/plain": [
       "\"OEM AC Compressor w/A/C Repair Kit For Ford F150 F-150 V8 & Lincoln Mark LT 2007 2008 - BuyAutoParts NEW\\nAs one of the world's largest automotive parts suppliers, our parts are trusted every day by mechanics and vehicle owners worldwide. This A/C Compressor and Components Kit is manufactured and tested to the strictest OE standards for unparalleled performance. Built for trouble-free ownership and 100% visually inspected and quality tested, this A/C Compressor and Components Kit is backed by our 100% satisfaction guarantee. Guaranteed Exact Fit for easy installation 100% BRAND NEW, premium ISO/TS 16949 quality - tested to meet or exceed OEM specifications Engineered for superior durability, backed by industry-leading unlimited-mileage warranty Included in this K\""
      ]
     },
     "execution_count": 10,
     "metadata": {},
     "output_type": "execute_result"
    }
   ],
   "source": [
    "description(test[0])"
   ]
  },
  {
   "cell_type": "code",
   "execution_count": 11,
   "id": "9f759bd2-7a7e-4c1a-80a0-e12470feca89",
   "metadata": {},
   "outputs": [],
   "source": [
    "model = SentenceTransformer('sentence-transformers/all-MiniLM-L6-v2')"
   ]
  },
  {
   "cell_type": "code",
   "execution_count": 12,
   "id": "e44dbd25-fb95-4b6b-bbbb-8da5fc817105",
   "metadata": {},
   "outputs": [],
   "source": [
    "def vector(item):\n",
    "    return model.encode([description(item)])"
   ]
  },
  {
   "cell_type": "code",
   "execution_count": 13,
   "id": "ffd5ee47-db5d-4263-b0d9-80d568c91341",
   "metadata": {},
   "outputs": [],
   "source": [
    "def find_similars(item):\n",
    "    results = collection.query(query_embeddings=vector(item).astype(float).tolist(), n_results=5)\n",
    "    documents = results['documents'][0][:]\n",
    "    prices = [m['price'] for m in results['metadatas'][0][:]]\n",
    "    return documents, prices"
   ]
  },
  {
   "cell_type": "code",
   "execution_count": 14,
   "id": "6f7b9ff9-fd90-4627-bb17-7c2f7bbd21f3",
   "metadata": {},
   "outputs": [
    {
     "data": {
      "text/plain": [
       "'How much does this cost to the nearest dollar?\\n\\nMotorcraft YB3125 Fan Clutch\\nMotorcraft YB3125 Fan Clutch Package Dimensions 25.146 cms (L) x 20.066 cms (W) x 15.494 cms (H) Package Quantity 1 Product Type Auto Part Country Of Origin China Manufacturer Motorcraft, Brand Motorcraft, Model Fan Clutch, Weight 5 pounds, Dimensions 10 x 7.63 x 6.25 inches, Country of Origin China, model number Exterior Painted, Manufacturer Part Rank Automotive Automotive Replacement Engine Fan Clutches 583, Domestic Shipping can be shipped within U.S., International Shipping This item can be shipped to select countries outside of the U.S. Learn More, Available October 10, 2007\\n\\nPrice is $225.00'"
      ]
     },
     "execution_count": 14,
     "metadata": {},
     "output_type": "execute_result"
    }
   ],
   "source": [
    "test[1].prompt"
   ]
  },
  {
   "cell_type": "code",
   "execution_count": 15,
   "id": "ff1b2659-cc6b-47aa-a797-dd1cd3d1d6c3",
   "metadata": {},
   "outputs": [],
   "source": [
    "documents, prices = find_similars(test[1])"
   ]
  },
  {
   "cell_type": "code",
   "execution_count": 16,
   "id": "24756d4d-edac-41ce-bb80-c3b6f1cea7ee",
   "metadata": {},
   "outputs": [
    {
     "name": "stdout",
     "output_type": "stream",
     "text": [
      "To provide some context, here are some other items that might be similar to the item you need to estimate.\n",
      "\n",
      "Potentially related product:\n",
      "Motorcraft Fan Clutch Assembly - YB3130\n",
      "Motorcraft Fan Clutch Assembly - YB3130 Package Dimensions 7.23 L x 4 H x 6.92 W (inches) Package Weight 5 pounds Country of Origin China Part Number YB3130 Manufacturer Motorcraft, Brand Motorcraft, Model Fan Clutch Assembly, Weight 5 pounds, Dimensions 6.87 x 7.32 x 5.62 inches, Country of Origin China, model number Exterior Painted, Manufacturer Part Wattage 6.92 watts, Rank Automotive Automotive Replacement Engine Fan Clutches 698, Available October 10, 2007, Dimensions LxWxH 6.87 x 7.32 x 5.62 inches\n",
      "Price is $223.78\n",
      "\n",
      "Potentially related product:\n",
      "Motorcraft- YB3126 Fan Clutch\n",
      "Fan Clutch Package Dimensions 16.764 H x 24.384 L x 20.32 W (centimeters) Part number YB3126 Package Weight 7.4 pounds Fit type Vehicle Specific Brand Motorcraft, Electric fan design Blower, Power Source Electric, Style Modern, Dimensions 24\\ D x 24\\ W x 76\\ H, Room Type Bedroom, Special Feature Dishwasher Safe, Recommended Uses For Product Cycling, Mounting Type Clevis, Controller Type Wimoto, Switch Type Push Button, Weight 7.14 pounds, Included Components Fan Clutch, Model Name Fan Clutch, Manufacturer Motorcraft, Country of Origin China, model number Exterior Painted, Manufacturer Part Special Features Dishwasher Safe\n",
      "Price is $197.14\n",
      "\n",
      "Potentially related product:\n",
      "Motorcraft Fan Clutch\n",
      "Motorcraft Fan Clutches are designed and tested to meet OE specifications for durability and reliability under extreme conditions. These clutches feature fluid which enhances the fan to turn faster and helps the engine reach operating temperature. They are built to maximize performance and are made from high-quality materials. Package Dimensions 14.478 H x 20.066 L x 19.558 W (centimeters) Part number YB3049 Fit type Vehicle Specific Package Weight 4.5 pounds Brand Motorcraft, Style Modern, Recommended Uses For Product Exhausting, Switch Type Push Button, Weight 0.01 Ounces, Included Components Fan Clutch, Model Name Fan Clutch, Manufacturer Motorcraft, Dimensions 7.94 x 8.06 x 4.06\n",
      "Price is $183.08\n",
      "\n",
      "Potentially related product:\n",
      "Motorcraft YB3188 Clutch\n",
      "Premium aftermarket replacement parts for Ford and Lincoln vehicles, Tested to provide performance and long-life reliability. Two-year unlimited mileage warranty, labor included and no commercial exceptions. Leading Manufacturer Of High-Quality Products International Renown For Our Diverse Range Of Award-Winning Products Fully Equipped With State-Of-The-Art Technology All Products Have Been Designed With The Professional In Mind Constantly Modernizing Our Powerful Devices To Meet The Demands Of The Modern User Manufacturer Motorcraft, Brand Motorcraft, Model Fan Clutch Assembly, Weight 5.8 pounds, Dimensions 6.36 x 6.38 x 2.78 inches, Exterior Painted, Manufacturer Part OEM Part Rank Automotive Automotive Replacement Engine Fan Clutches 17, Available July 1,\n",
      "Price is $262.97\n",
      "\n",
      "Potentially related product:\n",
      "Motorcraft YB3076 Fan Clutch\n",
      "Motorcraft Fan Clutches are designed and tested to meet OE specifications for durability and reliability under extreme conditions. These clutches feature fluid which enhances the fan to turn faster and helps the engine reach operating temperature. They are built to maximize performance and are made from high-quality materials. Thermostatically controlled viscous fan clutch Special fluid enhances the fan to turn faster Made of high quality Durable and reliable under extreme conditions Help the engine reach operating temperature Manufacturer Motorcraft, Brand Motorcraft, Weight 5 pounds, Dimensions 18 x 10.5 x 6 inches, Country of Origin China, model number Manufacturer Part Wattage 3.6 watts, Rank Automotive Automotive Replacement Engine Fan Clutches 138, Domestic Shipping can be shipped within U.S\n",
      "Price is $249.78\n",
      "\n",
      "\n"
     ]
    }
   ],
   "source": [
    "print(make_context(documents, prices))"
   ]
  },
  {
   "cell_type": "code",
   "execution_count": 17,
   "id": "0b81eca2-0b58-4fe8-9dd6-47f13ba5f8ee",
   "metadata": {},
   "outputs": [
    {
     "name": "stdout",
     "output_type": "stream",
     "text": [
      "[{'role': 'system', 'content': 'You estimate prices of items. Reply only with the price, no explanation'}, {'role': 'user', 'content': 'To provide some context, here are some other items that might be similar to the item you need to estimate.\\n\\nPotentially related product:\\nMotorcraft Fan Clutch Assembly - YB3130\\nMotorcraft Fan Clutch Assembly - YB3130 Package Dimensions 7.23 L x 4 H x 6.92 W (inches) Package Weight 5 pounds Country of Origin China Part Number YB3130 Manufacturer Motorcraft, Brand Motorcraft, Model Fan Clutch Assembly, Weight 5 pounds, Dimensions 6.87 x 7.32 x 5.62 inches, Country of Origin China, model number Exterior Painted, Manufacturer Part Wattage 6.92 watts, Rank Automotive Automotive Replacement Engine Fan Clutches 698, Available October 10, 2007, Dimensions LxWxH 6.87 x 7.32 x 5.62 inches\\nPrice is $223.78\\n\\nPotentially related product:\\nMotorcraft- YB3126 Fan Clutch\\nFan Clutch Package Dimensions 16.764 H x 24.384 L x 20.32 W (centimeters) Part number YB3126 Package Weight 7.4 pounds Fit type Vehicle Specific Brand Motorcraft, Electric fan design Blower, Power Source Electric, Style Modern, Dimensions 24\\\\ D x 24\\\\ W x 76\\\\ H, Room Type Bedroom, Special Feature Dishwasher Safe, Recommended Uses For Product Cycling, Mounting Type Clevis, Controller Type Wimoto, Switch Type Push Button, Weight 7.14 pounds, Included Components Fan Clutch, Model Name Fan Clutch, Manufacturer Motorcraft, Country of Origin China, model number Exterior Painted, Manufacturer Part Special Features Dishwasher Safe\\nPrice is $197.14\\n\\nPotentially related product:\\nMotorcraft Fan Clutch\\nMotorcraft Fan Clutches are designed and tested to meet OE specifications for durability and reliability under extreme conditions. These clutches feature fluid which enhances the fan to turn faster and helps the engine reach operating temperature. They are built to maximize performance and are made from high-quality materials. Package Dimensions 14.478 H x 20.066 L x 19.558 W (centimeters) Part number YB3049 Fit type Vehicle Specific Package Weight 4.5 pounds Brand Motorcraft, Style Modern, Recommended Uses For Product Exhausting, Switch Type Push Button, Weight 0.01 Ounces, Included Components Fan Clutch, Model Name Fan Clutch, Manufacturer Motorcraft, Dimensions 7.94 x 8.06 x 4.06\\nPrice is $183.08\\n\\nPotentially related product:\\nMotorcraft YB3188 Clutch\\nPremium aftermarket replacement parts for Ford and Lincoln vehicles, Tested to provide performance and long-life reliability. Two-year unlimited mileage warranty, labor included and no commercial exceptions. Leading Manufacturer Of High-Quality Products International Renown For Our Diverse Range Of Award-Winning Products Fully Equipped With State-Of-The-Art Technology All Products Have Been Designed With The Professional In Mind Constantly Modernizing Our Powerful Devices To Meet The Demands Of The Modern User Manufacturer Motorcraft, Brand Motorcraft, Model Fan Clutch Assembly, Weight 5.8 pounds, Dimensions 6.36 x 6.38 x 2.78 inches, Exterior Painted, Manufacturer Part OEM Part Rank Automotive Automotive Replacement Engine Fan Clutches 17, Available July 1,\\nPrice is $262.97\\n\\nPotentially related product:\\nMotorcraft YB3076 Fan Clutch\\nMotorcraft Fan Clutches are designed and tested to meet OE specifications for durability and reliability under extreme conditions. These clutches feature fluid which enhances the fan to turn faster and helps the engine reach operating temperature. They are built to maximize performance and are made from high-quality materials. Thermostatically controlled viscous fan clutch Special fluid enhances the fan to turn faster Made of high quality Durable and reliable under extreme conditions Help the engine reach operating temperature Manufacturer Motorcraft, Brand Motorcraft, Weight 5 pounds, Dimensions 18 x 10.5 x 6 inches, Country of Origin China, model number Manufacturer Part Wattage 3.6 watts, Rank Automotive Automotive Replacement Engine Fan Clutches 138, Domestic Shipping can be shipped within U.S\\nPrice is $249.78\\n\\nAnd now the question for you:\\n\\nHow much does this cost?\\n\\nMotorcraft YB3125 Fan Clutch\\nMotorcraft YB3125 Fan Clutch Package Dimensions 25.146 cms (L) x 20.066 cms (W) x 15.494 cms (H) Package Quantity 1 Product Type Auto Part Country Of Origin China Manufacturer Motorcraft, Brand Motorcraft, Model Fan Clutch, Weight 5 pounds, Dimensions 10 x 7.63 x 6.25 inches, Country of Origin China, model number Exterior Painted, Manufacturer Part Rank Automotive Automotive Replacement Engine Fan Clutches 583, Domestic Shipping can be shipped within U.S., International Shipping This item can be shipped to select countries outside of the U.S. Learn More, Available October 10, 2007'}, {'role': 'assistant', 'content': 'Price is $'}]\n"
     ]
    }
   ],
   "source": [
    "print(messages_for(test[1], documents, prices))"
   ]
  },
  {
   "cell_type": "code",
   "execution_count": 18,
   "id": "d11f1c8d-7480-4d64-a274-b030d701f1b8",
   "metadata": {},
   "outputs": [],
   "source": [
    "def get_price(s):\n",
    "    s = s.replace('$','').replace(',','')\n",
    "    match = re.search(r\"[-+]?\\d*\\.\\d+|\\d+\", s)\n",
    "    return float(match.group()) if match else 0"
   ]
  },
  {
   "cell_type": "code",
   "execution_count": 19,
   "id": "a919cf7d-b3d3-4968-8c96-54a0da0b0219",
   "metadata": {},
   "outputs": [],
   "source": [
    "# The function for gpt-4o-mini\n",
    "\n",
    "def gpt_4o_mini_rag(item):\n",
    "    documents, prices = find_similars(item)\n",
    "    response = openai.chat.completions.create(\n",
    "        model=\"gpt-4o-mini\", \n",
    "        messages=messages_for(item, documents, prices),\n",
    "        seed=42,\n",
    "        max_tokens=5\n",
    "    )\n",
    "    reply = response.choices[0].message.content\n",
    "    return get_price(reply)"
   ]
  },
  {
   "cell_type": "code",
   "execution_count": 20,
   "id": "3e519e26-ff15-4425-90bb-bfbf55deb39b",
   "metadata": {},
   "outputs": [
    {
     "data": {
      "text/plain": [
       "201.45"
      ]
     },
     "execution_count": 20,
     "metadata": {},
     "output_type": "execute_result"
    }
   ],
   "source": [
    "gpt_4o_mini_rag(test[1])"
   ]
  },
  {
   "cell_type": "code",
   "execution_count": 21,
   "id": "ce78741b-2966-41d2-9831-cbf8f8d176be",
   "metadata": {},
   "outputs": [
    {
     "data": {
      "text/plain": [
       "225.11"
      ]
     },
     "execution_count": 21,
     "metadata": {},
     "output_type": "execute_result"
    }
   ],
   "source": [
    "test[1].price"
   ]
  },
  {
   "cell_type": "code",
   "execution_count": 22,
   "id": "16d90455-ff7d-4f5f-8b8c-8e061263d1c7",
   "metadata": {},
   "outputs": [
    {
     "name": "stdout",
     "output_type": "stream",
     "text": [
      "\u001b[92m1: Guess: $312.41 Truth: $374.41 Error: $62.00 SLE: 0.03 Item: OEM AC Compressor w/A/C Repair Kit For F...\u001b[0m\n",
      "\u001b[92m2: Guess: $201.45 Truth: $225.11 Error: $23.66 SLE: 0.01 Item: Motorcraft YB3125 Fan Clutch\u001b[0m\n",
      "\u001b[92m3: Guess: $44.99 Truth: $61.68 Error: $16.69 SLE: 0.10 Item: Dorman 603-159 Front Washer Fluid Reserv...\u001b[0m\n",
      "\u001b[93m4: Guess: $399.99 Truth: $599.99 Error: $200.00 SLE: 0.16 Item: HP Premium 17.3-inch HD Plus Touchscreen...\u001b[0m\n",
      "\u001b[92m5: Guess: $19.99 Truth: $16.99 Error: $3.00 SLE: 0.02 Item: 5-Position Super Switch Pickup Selector ...\u001b[0m\n",
      "\u001b[92m6: Guess: $12.99 Truth: $31.99 Error: $19.00 SLE: 0.74 Item: Horror Bookmarks, Resin Horror Bookmarks...\u001b[0m\n",
      "\u001b[92m7: Guess: $68.99 Truth: $101.79 Error: $32.80 SLE: 0.15 Item: SK6241 - Stinger 4 Gauge 6000 Series Pow...\u001b[0m\n",
      "\u001b[93m8: Guess: $399.00 Truth: $289.00 Error: $110.00 SLE: 0.10 Item: Godox ML60Bi LED Light Kit, Handheld LED...\u001b[0m\n",
      "\u001b[92m9: Guess: $699.99 Truth: $635.86 Error: $64.13 SLE: 0.01 Item: Randall RG75DG3PLUS G3 Plus 100-Watt Com...\u001b[0m\n",
      "\u001b[92m10: Guess: $56.99 Truth: $65.99 Error: $9.00 SLE: 0.02 Item: HOLDWILL 6 Pack LED Shop Light, 4FT 24W ...\u001b[0m\n",
      "\u001b[93m11: Guess: $329.99 Truth: $254.21 Error: $75.78 SLE: 0.07 Item: Viking Horns V103C/1005ATK 3 Gallon Air ...\u001b[0m\n",
      "\u001b[92m12: Guess: $407.99 Truth: $412.99 Error: $5.00 SLE: 0.00 Item: CURT 70110 Custom Tow Bar Base Plate Bra...\u001b[0m\n",
      "\u001b[92m13: Guess: $215.50 Truth: $205.50 Error: $10.00 SLE: 0.00 Item: 10-Pack Solar HAMMERED BRONZE Finish Pos...\u001b[0m\n",
      "\u001b[92m14: Guess: $259.99 Truth: $248.23 Error: $11.76 SLE: 0.00 Item: COSTWAY Electric Tumble Dryer, Sliver\u001b[0m\n",
      "\u001b[92m15: Guess: $399.00 Truth: $399.00 Error: $0.00 SLE: 0.00 Item: FREE SIGNAL TV Transit 32\" 12 Volt DC Po...\u001b[0m\n",
      "\u001b[92m16: Guess: $349.99 Truth: $373.94 Error: $23.95 SLE: 0.00 Item: Bilstein 5100 Monotube Gas Shock Set com...\u001b[0m\n",
      "\u001b[92m17: Guess: $89.99 Truth: $92.89 Error: $2.90 SLE: 0.00 Item: Sangean K-200 Multi-Function Upright AM/...\u001b[0m\n",
      "\u001b[92m18: Guess: $36.99 Truth: $51.99 Error: $15.00 SLE: 0.11 Item: Charles Leonard Magnetic Lapboard Class ...\u001b[0m\n",
      "\u001b[91m19: Guess: $299.99 Truth: $179.00 Error: $120.99 SLE: 0.26 Item: Gigabyte AMD Radeon HD 7870 2 GB GDDR5 D...\u001b[0m\n",
      "\u001b[92m20: Guess: $19.42 Truth: $19.42 Error: $0.00 SLE: 0.00 Item: 3dRose LLC 8 x 8 x 0.25 Inches Bull Terr...\u001b[0m\n",
      "\u001b[92m21: Guess: $499.00 Truth: $539.95 Error: $40.95 SLE: 0.01 Item: ROKINON 85mm F1.4 Auto Focus Full Frame ...\u001b[0m\n",
      "\u001b[92m22: Guess: $155.99 Truth: $147.67 Error: $8.32 SLE: 0.00 Item: AUTOSAVER88 Headlight Assembly Compatibl...\u001b[0m\n",
      "\u001b[92m23: Guess: $24.99 Truth: $24.99 Error: $0.00 SLE: 0.00 Item: ASI NAUTICAL 2.5 Inches Opera Glasses Bi...\u001b[0m\n",
      "\u001b[91m24: Guess: $49.00 Truth: $149.00 Error: $100.00 SLE: 1.21 Item: Behringer TUBE OVERDRIVE TO100 Authentic...\u001b[0m\n",
      "\u001b[92m25: Guess: $12.99 Truth: $16.99 Error: $4.00 SLE: 0.06 Item: Fun Express Insect Finger Puppets - 24 f...\u001b[0m\n",
      "\u001b[92m26: Guess: $12.99 Truth: $7.99 Error: $5.00 SLE: 0.20 Item: WAFJAMF Roller Stamp Identity Theft Stam...\u001b[0m\n",
      "\u001b[92m27: Guess: $197.47 Truth: $199.99 Error: $2.52 SLE: 0.00 Item: Capulina Tiffany Floor Lamp 2-Light 16\" ...\u001b[0m\n",
      "\u001b[92m28: Guess: $270.00 Truth: $251.45 Error: $18.55 SLE: 0.01 Item: Apple Watch Series 6 (GPS, 44mm) - Space...\u001b[0m\n",
      "\u001b[92m29: Guess: $250.00 Truth: $231.62 Error: $18.38 SLE: 0.01 Item: ICON 01725 Tandem Axle Fender Skirt FS17...\u001b[0m\n",
      "\u001b[91m30: Guess: $249.99 Truth: $135.00 Error: $114.99 SLE: 0.38 Item: SanDisk 128GB Ultra (10 Pack) MicroSD Cl...\u001b[0m\n",
      "\u001b[92m31: Guess: $410.47 Truth: $356.62 Error: $53.85 SLE: 0.02 Item: Velvac 2020,L,C/Hr,W,E2003,102\",Bk - 715...\u001b[0m\n",
      "\u001b[92m32: Guess: $298.99 Truth: $257.99 Error: $41.00 SLE: 0.02 Item: TCMT Passenger Backrest Sissy Bar & Lugg...\u001b[0m\n",
      "\u001b[92m33: Guess: $19.99 Truth: $27.99 Error: $8.00 SLE: 0.10 Item: Alnicov 63.5MM Brass Tremolo Block，Tremo...\u001b[0m\n",
      "\u001b[92m34: Guess: $175.91 Truth: $171.20 Error: $4.71 SLE: 0.00 Item: Subaru Forester Outback Legacy OEM Engin...\u001b[0m\n",
      "\u001b[92m35: Guess: $225.00 Truth: $225.00 Error: $0.00 SLE: 0.00 Item: Richmond Auto Upholstery - 2012 Dodge Ra...\u001b[0m\n",
      "\u001b[93m36: Guess: $149.99 Truth: $105.00 Error: $44.99 SLE: 0.13 Item: AP-39 Automotive Paint Primer Grey 2K Ur...\u001b[0m\n",
      "\u001b[92m37: Guess: $299.99 Truth: $299.99 Error: $0.00 SLE: 0.00 Item: Road Top Wireless Carplay Retrofit Kit D...\u001b[0m\n",
      "\u001b[93m38: Guess: $688.99 Truth: $535.09 Error: $153.90 SLE: 0.06 Item: Gibson Performance Exhaust 5658 Aluminiz...\u001b[0m\n",
      "\u001b[92m39: Guess: $16.99 Truth: $12.33 Error: $4.66 SLE: 0.09 Item: Bella Tunno Happy Links - Baby Montessor...\u001b[0m\n",
      "\u001b[93m40: Guess: $129.99 Truth: $84.99 Error: $45.00 SLE: 0.18 Item: CANMORE H300 Handheld GPS Golf Device, S...\u001b[0m\n",
      "\u001b[92m41: Guess: $12.99 Truth: $15.99 Error: $3.00 SLE: 0.04 Item: DCPOWER AC Adapter Compatible Replacemen...\u001b[0m\n",
      "\u001b[92m42: Guess: $36.99 Truth: $62.44 Error: $25.45 SLE: 0.26 Item: Sharp, VX2128V, Commercial Desktop Calcu...\u001b[0m\n",
      "\u001b[92m43: Guess: $99.99 Truth: $82.99 Error: $17.00 SLE: 0.03 Item: Melissa & Doug Lifelike Plush Stork Gian...\u001b[0m\n",
      "\u001b[93m44: Guess: $399.99 Truth: $599.95 Error: $199.96 SLE: 0.16 Item: Sony SSCS8 2-Way 3-Driver Center Channel...\u001b[0m\n",
      "\u001b[93m45: Guess: $249.00 Truth: $194.99 Error: $54.01 SLE: 0.06 Item: ASUS Chromebook CX1, 14\" Full HD NanoEdg...\u001b[0m\n",
      "\u001b[92m46: Guess: $344.95 Truth: $344.95 Error: $0.00 SLE: 0.00 Item: FiiO X7 32GB Hi-Res Lossless Music Playe...\u001b[0m\n",
      "\u001b[92m47: Guess: $42.99 Truth: $37.99 Error: $5.00 SLE: 0.01 Item: TORRO Leather Case Compatible with iPhon...\u001b[0m\n",
      "\u001b[92m48: Guess: $225.33 Truth: $224.35 Error: $0.98 SLE: 0.00 Item: Universal Air Conditioner KT 1031 A/C Co...\u001b[0m\n",
      "\u001b[92m49: Guess: $875.00 Truth: $814.00 Error: $61.00 SLE: 0.01 Item: Street Series Stainless Performance Cat-...\u001b[0m\n",
      "\u001b[91m50: Guess: $249.00 Truth: $439.88 Error: $190.88 SLE: 0.32 Item: Lenovo IdeaPad 3 14-inch Laptop, 14.0-in...\u001b[0m\n",
      "\u001b[92m51: Guess: $304.12 Truth: $341.43 Error: $37.31 SLE: 0.01 Item: Access Bed Covers TonnoSport 22050219 - ...\u001b[0m\n",
      "\u001b[92m52: Guess: $34.99 Truth: $46.78 Error: $11.79 SLE: 0.08 Item: G.I. JOE Hasbro 3 3/4\" Wave 5 Action Fig...\u001b[0m\n",
      "\u001b[92m53: Guess: $194.30 Truth: $171.44 Error: $22.86 SLE: 0.02 Item: T&S Brass B-0232-BST Double Pantry Fauce...\u001b[0m\n",
      "\u001b[93m54: Guess: $350.00 Truth: $458.00 Error: $108.00 SLE: 0.07 Item: ZTUOAUMA Fuel Injection Pump 3090942 309...\u001b[0m\n",
      "\u001b[92m55: Guess: $129.99 Truth: $130.75 Error: $0.76 SLE: 0.00 Item: 2AP18AA#ABA Hp Prime Graphing Calculator...\u001b[0m\n",
      "\u001b[93m56: Guess: $39.99 Truth: $83.81 Error: $43.82 SLE: 0.53 Item: Lowrance 000-0119-83 Nmea 2000 25' Exten...\u001b[0m\n",
      "\u001b[91m57: Guess: $119.99 Truth: $386.39 Error: $266.40 SLE: 1.35 Item: Jeep Genuine Accessories 82213051 Hood L...\u001b[0m\n",
      "\u001b[92m58: Guess: $159.99 Truth: $169.00 Error: $9.01 SLE: 0.00 Item: GODOX CB-06 Hard Carrying Case with Whee...\u001b[0m\n",
      "\u001b[92m59: Guess: $15.95 Truth: $17.95 Error: $2.00 SLE: 0.01 Item: Au-Tomotive Gold, INC. Ford Black Valet ...\u001b[0m\n",
      "\u001b[93m60: Guess: $202.00 Truth: $269.00 Error: $67.00 SLE: 0.08 Item: Snailfly Black Roof Rack Rail + Cross Ba...\u001b[0m\n",
      "\u001b[92m61: Guess: $39.99 Truth: $77.77 Error: $37.78 SLE: 0.43 Item: KING SHA Anti Glare LED Track Lighting H...\u001b[0m\n",
      "\u001b[92m62: Guess: $87.99 Truth: $88.99 Error: $1.00 SLE: 0.00 Item: APS Compatible with Chevy Silverado 1500...\u001b[0m\n",
      "\u001b[92m63: Guess: $362.69 Truth: $364.41 Error: $1.72 SLE: 0.00 Item: Wilwood Engineering 14011291R Brake Cali...\u001b[0m\n",
      "\u001b[93m64: Guess: $194.37 Truth: $127.03 Error: $67.34 SLE: 0.18 Item: ACDelco Gold 336-1925A Starter, Remanufa...\u001b[0m\n",
      "\u001b[92m65: Guess: $778.95 Truth: $778.95 Error: $0.00 SLE: 0.00 Item: UWS EC10783 69-Inch Matte Black Heavy-Wa...\u001b[0m\n",
      "\u001b[92m66: Guess: $179.99 Truth: $206.66 Error: $26.67 SLE: 0.02 Item: Dell Latitude E5440 14in Business Laptop...\u001b[0m\n",
      "\u001b[92m67: Guess: $49.99 Truth: $35.94 Error: $14.05 SLE: 0.10 Item: (Plug and Play) Spare Tire Brake Light W...\u001b[0m\n",
      "\u001b[92m68: Guess: $149.99 Truth: $149.00 Error: $0.99 SLE: 0.00 Item: The Ultimate Roadside Rescue Assistant\u001b[0m\n",
      "\u001b[93m69: Guess: $197.99 Truth: $251.98 Error: $53.99 SLE: 0.06 Item: Brand New 18\" x 8.5\" Replacement Wheel f...\u001b[0m\n",
      "\u001b[93m70: Guess: $222.84 Truth: $160.00 Error: $62.84 SLE: 0.11 Item: Headlight Headlamp LH Left & RH Right Pa...\u001b[0m\n",
      "\u001b[92m71: Guess: $42.99 Truth: $39.99 Error: $3.00 SLE: 0.00 Item: Lilo And Stitch Deluxe Oversize Print La...\u001b[0m\n",
      "\u001b[93m72: Guess: $276.98 Truth: $362.41 Error: $85.43 SLE: 0.07 Item: AC Compressor & A/C Clutch For Hyundai A...\u001b[0m\n",
      "\u001b[92m73: Guess: $286.00 Truth: $344.00 Error: $58.00 SLE: 0.03 Item: House Of Troy PIN475-AB Pinnacle Collect...\u001b[0m\n",
      "\u001b[92m74: Guess: $25.47 Truth: $25.09 Error: $0.38 SLE: 0.00 Item: Juno T29 WH Floating Electrical Feed Sin...\u001b[0m\n",
      "\u001b[91m75: Guess: $85.63 Truth: $175.95 Error: $90.32 SLE: 0.51 Item: Sherman GO-PARTS - for 2013-2016 Toyota ...\u001b[0m\n",
      "\u001b[91m76: Guess: $269.99 Truth: $132.64 Error: $137.35 SLE: 0.50 Item: Roland RPU-3 Electronic Keyboard Pedal o...\u001b[0m\n",
      "\u001b[92m77: Guess: $349.99 Truth: $422.99 Error: $73.00 SLE: 0.04 Item: Rockland VMI14 12,000 Pound 12 Volt DC E...\u001b[0m\n",
      "\u001b[92m78: Guess: $164.04 Truth: $146.48 Error: $17.56 SLE: 0.01 Item: Max Advanced Brakes Elite XDS Front Cros...\u001b[0m\n",
      "\u001b[92m79: Guess: $162.47 Truth: $156.83 Error: $5.64 SLE: 0.00 Item: Quality-Built 11030 Premium Quality Alte...\u001b[0m\n",
      "\u001b[93m80: Guess: $159.99 Truth: $251.99 Error: $92.00 SLE: 0.20 Item: Lucida LG-510 Student Classical Guitar, ...\u001b[0m\n",
      "\u001b[91m81: Guess: $329.99 Truth: $940.33 Error: $610.34 SLE: 1.09 Item: Longacre 52-79800 Aluminum Turn Plates\u001b[0m\n",
      "\u001b[92m82: Guess: $52.99 Truth: $52.99 Error: $0.00 SLE: 0.00 Item: Motion Pro 08-0380 Adjustable Torque Wre...\u001b[0m\n",
      "\u001b[92m83: Guess: $249.99 Truth: $219.95 Error: $30.04 SLE: 0.02 Item: Glyph Thunderbolt 3 NVMe Dock (0 GB)\u001b[0m\n",
      "\u001b[92m84: Guess: $426.50 Truth: $441.03 Error: $14.53 SLE: 0.00 Item: TOYO Open Country MT Performance Radial ...\u001b[0m\n",
      "\u001b[92m85: Guess: $145.48 Truth: $168.98 Error: $23.50 SLE: 0.02 Item: Razer Seiren X USB Streaming Microphone ...\u001b[0m\n",
      "\u001b[92m86: Guess: $3.99 Truth: $2.49 Error: $1.50 SLE: 0.13 Item: Happy Birthday to Dad From Your Daughter...\u001b[0m\n",
      "\u001b[92m87: Guess: $95.99 Truth: $98.62 Error: $2.63 SLE: 0.00 Item: Little Tikes My Real Jam First Concert S...\u001b[0m\n",
      "\u001b[91m88: Guess: $99.99 Truth: $256.95 Error: $156.96 SLE: 0.88 Item: Studio M Peace and Harmony Art Pole Comm...\u001b[0m\n",
      "\u001b[92m89: Guess: $29.49 Truth: $30.99 Error: $1.50 SLE: 0.00 Item: MyVolts 12V Power Supply Adaptor Compati...\u001b[0m\n",
      "\u001b[92m90: Guess: $499.99 Truth: $569.84 Error: $69.85 SLE: 0.02 Item: Dell Latitude 7212 Rugged Extreme Tablet...\u001b[0m\n",
      "\u001b[92m91: Guess: $159.95 Truth: $177.99 Error: $18.04 SLE: 0.01 Item: Covermates Contour Fit Car Cover - Light...\u001b[0m\n",
      "\u001b[92m92: Guess: $997.99 Truth: $997.99 Error: $0.00 SLE: 0.00 Item: Westin 57-4025 Black HDX Grille Guard fi...\u001b[0m\n",
      "\u001b[92m93: Guess: $209.99 Truth: $219.00 Error: $9.01 SLE: 0.00 Item: Fieldpiece JL2 Job Link Wireless App Tra...\u001b[0m\n",
      "\u001b[92m94: Guess: $267.50 Truth: $225.55 Error: $41.95 SLE: 0.03 Item: hansgrohe Talis S Modern Premium Easy Cl...\u001b[0m\n",
      "\u001b[92m95: Guess: $449.95 Truth: $495.95 Error: $46.00 SLE: 0.01 Item: G-Technology G-SPEED eS PRO High-Perform...\u001b[0m\n",
      "\u001b[92m96: Guess: $940.49 Truth: $942.37 Error: $1.88 SLE: 0.00 Item: DreamLine SHDR-1960723L-01 Shower Door, ...\u001b[0m\n",
      "\u001b[92m97: Guess: $18.00 Truth: $1.94 Error: $16.06 SLE: 3.48 Item: Sanctuary Square Backplate Finish: Oiled...\u001b[0m\n",
      "\u001b[92m98: Guess: $305.95 Truth: $284.34 Error: $21.61 SLE: 0.01 Item: Pelican Protector 1750 Long Case - Multi...\u001b[0m\n",
      "\u001b[92m99: Guess: $156.00 Truth: $171.90 Error: $15.90 SLE: 0.01 Item: Brock Replacement Driver and Passenger H...\u001b[0m\n",
      "\u001b[92m100: Guess: $130.99 Truth: $144.99 Error: $14.00 SLE: 0.01 Item: Carlinkit Ai Box Mini, Android 11, Multi...\u001b[0m\n",
      "\u001b[93m101: Guess: $299.00 Truth: $470.47 Error: $171.47 SLE: 0.20 Item: StarDot NetCamLIVE2 YouTube Live Stream ...\u001b[0m\n",
      "\u001b[92m102: Guess: $49.99 Truth: $66.95 Error: $16.96 SLE: 0.08 Item: Atomic Compatible FILXXCAR0016 16x25x5 M...\u001b[0m\n",
      "\u001b[92m103: Guess: $150.00 Truth: $117.00 Error: $33.00 SLE: 0.06 Item: Bandai Awakening of S. H. s.h.figuarts s...\u001b[0m\n",
      "\u001b[91m104: Guess: $284.99 Truth: $172.14 Error: $112.85 SLE: 0.25 Item: Fit System 62135G Passenger Side Towing ...\u001b[0m\n",
      "\u001b[92m105: Guess: $349.88 Truth: $392.74 Error: $42.86 SLE: 0.01 Item: Black Horse Black Aluminum Exceed Runnin...\u001b[0m\n",
      "\u001b[92m106: Guess: $39.99 Truth: $16.99 Error: $23.00 SLE: 0.68 Item: Dearsun Twinkle Star Color Night Light P...\u001b[0m\n",
      "\u001b[92m107: Guess: $1.19 Truth: $1.34 Error: $0.15 SLE: 0.00 Item: Pokemon - Gallade Spirit Link (83/108) -...\u001b[0m\n",
      "\u001b[91m108: Guess: $199.99 Truth: $349.98 Error: $149.99 SLE: 0.31 Item: Ibanez GA34STCE-NT GIO Series Classical ...\u001b[0m\n",
      "\u001b[93m109: Guess: $469.99 Truth: $370.71 Error: $99.28 SLE: 0.06 Item: Set 2 Heavy Duty 12-16.5 12x16.5 12 Ply ...\u001b[0m\n",
      "\u001b[92m110: Guess: $74.99 Truth: $65.88 Error: $9.11 SLE: 0.02 Item: Hairpin Table Legs 28\" Heavy Duty Hairpi...\u001b[0m\n",
      "\u001b[92m111: Guess: $209.99 Truth: $229.99 Error: $20.00 SLE: 0.01 Item: Marada Racing Seat with Adjustable Slide...\u001b[0m\n",
      "\u001b[92m112: Guess: $21.99 Truth: $9.14 Error: $12.85 SLE: 0.67 Item: Remington Industries 24UL1007STRWHI25 24...\u001b[0m\n",
      "\u001b[91m113: Guess: $399.99 Truth: $199.00 Error: $200.99 SLE: 0.48 Item: Acer S3-391-6046 13.3-inch Ultrabook, In...\u001b[0m\n",
      "\u001b[92m114: Guess: $139.99 Truth: $109.99 Error: $30.00 SLE: 0.06 Item: ICBEAMER 7\" RGB LED Headlights Bulb Halo...\u001b[0m\n",
      "\u001b[93m115: Guess: $369.84 Truth: $570.42 Error: $200.58 SLE: 0.19 Item: R1 Concepts Front Rear Brakes and Rotors...\u001b[0m\n",
      "\u001b[92m116: Guess: $249.99 Truth: $279.99 Error: $30.00 SLE: 0.01 Item: Camplux 2.64 GPM Tankless , Outdoor Port...\u001b[0m\n",
      "\u001b[92m117: Guess: $24.99 Truth: $30.99 Error: $6.00 SLE: 0.04 Item: KNOKLOCK 10 Pack 3.75 Inch(96mm) Kitchen...\u001b[0m\n",
      "\u001b[92m118: Guess: $29.95 Truth: $31.99 Error: $2.04 SLE: 0.00 Item: Valley Enterprises Yaesu USB FTDI CT-62 ...\u001b[0m\n",
      "\u001b[92m119: Guess: $24.99 Truth: $15.90 Error: $9.09 SLE: 0.19 Item: G9 LED Light Bulbs，8W，75W 100W replaceme...\u001b[0m\n",
      "\u001b[93m120: Guess: $114.99 Truth: $45.99 Error: $69.00 SLE: 0.82 Item: ZCHAOZ 4 Lights Antique White Farmhouse ...\u001b[0m\n",
      "\u001b[91m121: Guess: $259.99 Truth: $113.52 Error: $146.47 SLE: 0.68 Item: Honeywell TH8320R1003 Honeywell VisionPr...\u001b[0m\n",
      "\u001b[92m122: Guess: $479.99 Truth: $516.99 Error: $37.00 SLE: 0.01 Item: Patriot Exhaust H8013-1 1-7/8\" Clippster...\u001b[0m\n",
      "\u001b[92m123: Guess: $215.99 Truth: $196.99 Error: $19.00 SLE: 0.01 Item: Fitrite Autopart New Front Left Driver S...\u001b[0m\n",
      "\u001b[92m124: Guess: $76.88 Truth: $46.55 Error: $30.33 SLE: 0.24 Item: Technical Precision Replacement for GE G...\u001b[0m\n",
      "\u001b[93m125: Guess: $269.99 Truth: $356.99 Error: $87.00 SLE: 0.08 Item: Covercraft Carhartt SeatSaver Front Row ...\u001b[0m\n",
      "\u001b[93m126: Guess: $399.00 Truth: $319.95 Error: $79.05 SLE: 0.05 Item: Sennheiser SD Pro 2 (506008) - Double-Si...\u001b[0m\n",
      "\u001b[91m127: Guess: $185.56 Truth: $96.06 Error: $89.50 SLE: 0.43 Item: Hitachi MAF0110 Mass Air Flow Sensor\u001b[0m\n",
      "\u001b[93m128: Guess: $249.99 Truth: $190.99 Error: $59.00 SLE: 0.07 Item: AmScope SE305R-P-LED-PS36A 10X-30X LED C...\u001b[0m\n",
      "\u001b[91m129: Guess: $132.58 Truth: $257.95 Error: $125.37 SLE: 0.44 Item: Front Left Driver Side Window Regulator ...\u001b[0m\n",
      "\u001b[92m130: Guess: $63.50 Truth: $62.95 Error: $0.55 SLE: 0.00 Item: Premium Replica Hubcap Set, Fits Nissan ...\u001b[0m\n",
      "\u001b[92m131: Guess: $24.99 Truth: $47.66 Error: $22.67 SLE: 0.39 Item: Excellerations Phonics Spelling Game for...\u001b[0m\n",
      "\u001b[93m132: Guess: $299.99 Truth: $226.99 Error: $73.00 SLE: 0.08 Item: RC4WD BigDog Dual Axle Scale Car/Truck T...\u001b[0m\n",
      "\u001b[92m133: Guess: $389.00 Truth: $359.95 Error: $29.05 SLE: 0.01 Item: Unknown Stage 2 Clutch Kit - Low Altitud...\u001b[0m\n",
      "\u001b[92m134: Guess: $62.00 Truth: $78.40 Error: $16.40 SLE: 0.05 Item: 2002-2008 Dodge Ram 1500 Mopar 4X4 Emble...\u001b[0m\n",
      "\u001b[93m135: Guess: $215.00 Truth: $172.77 Error: $42.23 SLE: 0.05 Item: Pro Comp Alloys Series 89 Wheel with Pol...\u001b[0m\n",
      "\u001b[92m136: Guess: $349.98 Truth: $316.45 Error: $33.53 SLE: 0.01 Item: Detroit Axle - Front Rear Strut & Coil S...\u001b[0m\n",
      "\u001b[92m137: Guess: $79.99 Truth: $87.99 Error: $8.00 SLE: 0.01 Item: ECCPP Rear Wheel Axle Replacement fit fo...\u001b[0m\n",
      "\u001b[93m138: Guess: $175.99 Truth: $226.63 Error: $50.64 SLE: 0.06 Item: Dell Latitude E6520 Intel i7-2720QM 2.20...\u001b[0m\n",
      "\u001b[92m139: Guess: $34.99 Truth: $31.49 Error: $3.50 SLE: 0.01 Item: F FIERCE CYCLE 251pcs Black Universal Mo...\u001b[0m\n",
      "\u001b[92m140: Guess: $194.48 Truth: $196.00 Error: $1.52 SLE: 0.00 Item: Flash Furniture 4 Pk. HERCULES Series 88...\u001b[0m\n",
      "\u001b[92m141: Guess: $39.95 Truth: $78.40 Error: $38.45 SLE: 0.44 Item: B&M 30287 Throttle Valve/Kickdown Cable,...\u001b[0m\n",
      "\u001b[92m142: Guess: $97.12 Truth: $116.25 Error: $19.13 SLE: 0.03 Item: Gates TCK226 PowerGrip Premium Timing Be...\u001b[0m\n",
      "\u001b[92m143: Guess: $139.99 Truth: $112.78 Error: $27.21 SLE: 0.05 Item: Monroe Shocks & Struts Quick-Strut 17149...\u001b[0m\n",
      "\u001b[92m144: Guess: $41.99 Truth: $27.32 Error: $14.67 SLE: 0.17 Item: Feit Electric BPMR16/GU10/930CA/6 35W EQ...\u001b[0m\n",
      "\u001b[93m145: Guess: $79.35 Truth: $145.91 Error: $66.56 SLE: 0.36 Item: Yellow Jacket 2806 Contractor Extension ...\u001b[0m\n",
      "\u001b[92m146: Guess: $186.30 Truth: $171.09 Error: $15.21 SLE: 0.01 Item: Garage-Pro Tailgate SET Compatible with ...\u001b[0m\n",
      "\u001b[92m147: Guess: $149.99 Truth: $167.95 Error: $17.96 SLE: 0.01 Item: 3M Perfect It Buffing and Polishing Kit ...\u001b[0m\n",
      "\u001b[92m148: Guess: $39.95 Truth: $28.49 Error: $11.46 SLE: 0.11 Item: Chinese Style Dollhouse Model DIY Miniat...\u001b[0m\n",
      "\u001b[92m149: Guess: $139.99 Truth: $122.23 Error: $17.76 SLE: 0.02 Item: Generic NRG Innovations SRK-161H Steerin...\u001b[0m\n",
      "\u001b[92m150: Guess: $29.99 Truth: $32.99 Error: $3.00 SLE: 0.01 Item: Learning Resources Coding Critters Range...\u001b[0m\n",
      "\u001b[93m151: Guess: $132.40 Truth: $71.20 Error: $61.20 SLE: 0.38 Item: Bosch Automotive 15463 Oxygen Sensor, OE...\u001b[0m\n",
      "\u001b[92m152: Guess: $105.00 Truth: $112.75 Error: $7.75 SLE: 0.00 Item: Case of 24-2 Inch Blue Painters Tape - 6...\u001b[0m\n",
      "\u001b[92m153: Guess: $114.99 Truth: $142.43 Error: $27.44 SLE: 0.05 Item: MOCA Engine Water Pump & Fan Clutch fit ...\u001b[0m\n",
      "\u001b[93m154: Guess: $299.99 Truth: $398.99 Error: $99.00 SLE: 0.08 Item: SAREMAS Foot Step Bars for Hyundai Palis...\u001b[0m\n",
      "\u001b[91m155: Guess: $699.99 Truth: $449.00 Error: $250.99 SLE: 0.20 Item: Gretsch G9210 Square Neck Boxcar Mahogan...\u001b[0m\n",
      "\u001b[93m156: Guess: $239.00 Truth: $189.00 Error: $50.00 SLE: 0.05 Item: NikoMaku Mirror Dash Cam Front and Rear ...\u001b[0m\n",
      "\u001b[92m157: Guess: $88.45 Truth: $120.91 Error: $32.46 SLE: 0.10 Item: Fenix HP25R v2.0 USB-C Rechargeable Head...\u001b[0m\n",
      "\u001b[92m158: Guess: $172.22 Truth: $203.53 Error: $31.31 SLE: 0.03 Item: R&L Racing Heavy Duty Roll-Up Soft Tonne...\u001b[0m\n",
      "\u001b[92m159: Guess: $399.99 Truth: $349.99 Error: $50.00 SLE: 0.02 Item: Garmin 010-02258-10 GPSMAP 64sx, Handhel...\u001b[0m\n",
      "\u001b[92m160: Guess: $9.99 Truth: $34.35 Error: $24.36 SLE: 1.36 Item: Brown 5-7/8\" X 8-1/2\" X 3/16\" Thick Heav...\u001b[0m\n",
      "\u001b[92m161: Guess: $399.00 Truth: $384.99 Error: $14.01 SLE: 0.00 Item: GAOMON PD2200 Pen Display & 20 Pen Nibs ...\u001b[0m\n",
      "\u001b[93m162: Guess: $259.00 Truth: $211.00 Error: $48.00 SLE: 0.04 Item: VXMOTOR for 97-03 Ford F150/F250 Lightdu...\u001b[0m\n",
      "\u001b[93m163: Guess: $179.99 Truth: $129.00 Error: $50.99 SLE: 0.11 Item: HP EliteBook 2540p Intel Core i7-640LM X...\u001b[0m\n",
      "\u001b[91m164: Guess: $29.95 Truth: $111.45 Error: $81.50 SLE: 1.66 Item: Green EPX Mixing Nozzles 100-Pack-fits 3...\u001b[0m\n",
      "\u001b[92m165: Guess: $54.01 Truth: $81.12 Error: $27.11 SLE: 0.16 Item: Box Partners 6 1/4 x 3 1/8\" 13 Pt. Manil...\u001b[0m\n",
      "\u001b[92m166: Guess: $458.28 Truth: $457.08 Error: $1.20 SLE: 0.00 Item: Vixen Air 1/2\" NPT Air Ride Suspension H...\u001b[0m\n",
      "\u001b[92m167: Guess: $75.99 Truth: $49.49 Error: $26.50 SLE: 0.18 Item: Smart Floor Lamp, 2700-6500K+RGBPink Mul...\u001b[0m\n",
      "\u001b[92m168: Guess: $99.99 Truth: $80.56 Error: $19.43 SLE: 0.05 Item: SOZG 324mm Wheelbase Body Shell RC Car B...\u001b[0m\n",
      "\u001b[92m169: Guess: $295.00 Truth: $278.39 Error: $16.61 SLE: 0.00 Item: Mickey Thompson ET Street S/S Racing Rad...\u001b[0m\n",
      "\u001b[92m170: Guess: $382.45 Truth: $364.50 Error: $17.95 SLE: 0.00 Item: Pirelli 275/40R20 106W XL RFT P0 PZ4-LUX...\u001b[0m\n",
      "\u001b[91m171: Guess: $834.98 Truth: $378.99 Error: $455.99 SLE: 0.62 Item: Torklift C3212 Rear Tie Down\u001b[0m\n",
      "\u001b[92m172: Guess: $130.60 Truth: $165.28 Error: $34.68 SLE: 0.05 Item: Cardone 78-4226 Remanufactured Ford Comp...\u001b[0m\n",
      "\u001b[92m173: Guess: $49.99 Truth: $56.74 Error: $6.75 SLE: 0.02 Item: Kidde AccessPoint 001798 Supra TouchPoin...\u001b[0m\n",
      "\u001b[91m174: Guess: $159.75 Truth: $307.95 Error: $148.20 SLE: 0.43 Item: 3M Protecta 3100414 Self Retracting Life...\u001b[0m\n",
      "\u001b[91m175: Guess: $120.00 Truth: $38.00 Error: $82.00 SLE: 1.28 Item: Plantronics 89435-01 Wired Headset, Blac...\u001b[0m\n",
      "\u001b[92m176: Guess: $68.12 Truth: $53.00 Error: $15.12 SLE: 0.06 Item: Logitech K750 Wireless Solar Keyboard fo...\u001b[0m\n",
      "\u001b[92m177: Guess: $549.99 Truth: $498.00 Error: $51.99 SLE: 0.01 Item: Olympus PEN E-PL9 Body Only with 3-Inch ...\u001b[0m\n",
      "\u001b[91m178: Guess: $195.00 Truth: $53.99 Error: $141.01 SLE: 1.62 Item: Beck/Arnley 051-6066 Hub & Bearing Assem...\u001b[0m\n",
      "\u001b[92m179: Guess: $350.00 Truth: $350.00 Error: $0.00 SLE: 0.00 Item: Eibach Pro-Kit Performance Springs E10-6...\u001b[0m\n",
      "\u001b[92m180: Guess: $250.00 Truth: $299.95 Error: $49.95 SLE: 0.03 Item: LEGO DC Batman 1989 Batwing 76161 Displa...\u001b[0m\n",
      "\u001b[92m181: Guess: $95.47 Truth: $94.93 Error: $0.54 SLE: 0.00 Item: Kingston Brass KS3608PL Restoration 4-In...\u001b[0m\n",
      "\u001b[92m182: Guess: $399.00 Truth: $379.00 Error: $20.00 SLE: 0.00 Item: Polk Vanishing Series 265-LS In-Wall 3-W...\u001b[0m\n",
      "\u001b[92m183: Guess: $299.99 Truth: $299.95 Error: $0.04 SLE: 0.00 Item: Spec-D Tuning LED Projector Headlights G...\u001b[0m\n",
      "\u001b[92m184: Guess: $17.99 Truth: $24.99 Error: $7.00 SLE: 0.10 Item: RICHMOND & FINCH Airpod Pro Case, Green ...\u001b[0m\n",
      "\u001b[93m185: Guess: $119.99 Truth: $41.04 Error: $78.95 SLE: 1.12 Item: LFA Industries 43B-5A-33JT 1/16-1/2-1.5-...\u001b[0m\n",
      "\u001b[91m186: Guess: $149.99 Truth: $327.90 Error: $177.91 SLE: 0.61 Item: SAUTVS LED Headlight Assembly for Slings...\u001b[0m\n",
      "\u001b[92m187: Guess: $12.99 Truth: $10.99 Error: $2.00 SLE: 0.02 Item: 2 Pack Combo Womens Safety Glasses Impac...\u001b[0m\n",
      "\u001b[92m188: Guess: $14.99 Truth: $14.99 Error: $0.00 SLE: 0.00 Item: Arepa - Venezuelan cuisine - Venezuela P...\u001b[0m\n",
      "\u001b[93m189: Guess: $36.75 Truth: $84.95 Error: $48.20 SLE: 0.68 Item: Schlage Lock Company KS23D2300 Padlock, ...\u001b[0m\n",
      "\u001b[92m190: Guess: $149.99 Truth: $111.00 Error: $38.99 SLE: 0.09 Item: Techni Mobili White Sit to Stand Mobile ...\u001b[0m\n",
      "\u001b[93m191: Guess: $178.20 Truth: $123.73 Error: $54.47 SLE: 0.13 Item: Special Lite Products Contemporary Wall ...\u001b[0m\n",
      "\u001b[92m192: Guess: $599.99 Truth: $557.38 Error: $42.61 SLE: 0.01 Item: Tascam DP-24SD 24-Track Digital Portastu...\u001b[0m\n",
      "\u001b[93m193: Guess: $142.39 Truth: $95.55 Error: $46.84 SLE: 0.16 Item: Glow Lighting 636CC10SP Vista Crystal Fl...\u001b[0m\n",
      "\u001b[92m194: Guess: $144.00 Truth: $154.00 Error: $10.00 SLE: 0.00 Item: Z3 Wind Deflector, Smoke Tint, Lexan, Wi...\u001b[0m\n",
      "\u001b[91m195: Guess: $399.99 Truth: $198.99 Error: $201.00 SLE: 0.48 Item: Olympus E-20 5MP Digital Camera w/ 4x Op...\u001b[0m\n",
      "\u001b[91m196: Guess: $239.99 Truth: $430.44 Error: $190.45 SLE: 0.34 Item: PHYNEDI 1:1000 World Trade Center (1973-...\u001b[0m\n",
      "\u001b[92m197: Guess: $19.99 Truth: $45.67 Error: $25.68 SLE: 0.64 Item: YANGHUAN Unstable Unicorns Adventure Car...\u001b[0m\n",
      "\u001b[91m198: Guess: $129.99 Truth: $249.00 Error: $119.01 SLE: 0.42 Item: Interlogix NX-1820E NetworX Touch Screen...\u001b[0m\n",
      "\u001b[92m199: Guess: $45.99 Truth: $42.99 Error: $3.00 SLE: 0.00 Item: Steering Damper,Universal Motorcycle Han...\u001b[0m\n",
      "\u001b[93m200: Guess: $136.79 Truth: $181.33 Error: $44.54 SLE: 0.08 Item: Amprobe TIC 410A Hot Stick Attachment\u001b[0m\n",
      "\u001b[92m201: Guess: $4.75 Truth: $6.03 Error: $1.28 SLE: 0.04 Item: MyCableMart 3.5mm Plug/Jack, 4 Conductor...\u001b[0m\n",
      "\u001b[92m202: Guess: $39.95 Truth: $29.99 Error: $9.96 SLE: 0.08 Item: OtterBox + Pop Symmetry Series Case for ...\u001b[0m\n",
      "\u001b[93m203: Guess: $699.00 Truth: $899.00 Error: $200.00 SLE: 0.06 Item: Dell XPS X8700-1572BLK Desktop ( Intel C...\u001b[0m\n",
      "\u001b[93m204: Guess: $499.99 Truth: $399.99 Error: $100.00 SLE: 0.05 Item: Franklin Iron Works Sperry Industrial Br...\u001b[0m\n",
      "\u001b[92m205: Guess: $6.49 Truth: $4.66 Error: $1.83 SLE: 0.08 Item: Avery Legal Dividers, Standard Collated ...\u001b[0m\n",
      "\u001b[92m206: Guess: $305.07 Truth: $261.41 Error: $43.66 SLE: 0.02 Item: Moen 8346 Commercial Posi-Temp Pressure ...\u001b[0m\n",
      "\u001b[92m207: Guess: $143.96 Truth: $136.97 Error: $6.99 SLE: 0.00 Item: Carlisle Versa Trail ATR All Terrain Rad...\u001b[0m\n",
      "\u001b[92m208: Guess: $89.00 Truth: $79.00 Error: $10.00 SLE: 0.01 Item: SUNWAYFOTO 44mm Tripod Ball Head Arca Co...\u001b[0m\n",
      "\u001b[92m209: Guess: $485.80 Truth: $444.99 Error: $40.81 SLE: 0.01 Item: NanoBeam AC NBE-5AC-Gen2-US 4 Units 5GHz...\u001b[0m\n",
      "\u001b[92m210: Guess: $411.94 Truth: $411.94 Error: $0.00 SLE: 0.00 Item: WULF 4\" Front 2\" Rear Leveling Lift Kit ...\u001b[0m\n",
      "\u001b[93m211: Guess: $189.99 Truth: $148.40 Error: $41.59 SLE: 0.06 Item: Alera ALEVABFMC Valencia Series Mobile B...\u001b[0m\n",
      "\u001b[91m212: Guess: $99.99 Truth: $244.99 Error: $145.00 SLE: 0.79 Item: YU-GI-OH! Ignition Assault Booster Box\u001b[0m\n",
      "\u001b[92m213: Guess: $109.99 Truth: $86.50 Error: $23.49 SLE: 0.06 Item: 48\" x 36\" Extra-Large Framed Magnetic Bl...\u001b[0m\n",
      "\u001b[91m214: Guess: $118.00 Truth: $297.95 Error: $179.95 SLE: 0.85 Item: Dell Latitude D620 Renewed Notebook PC\u001b[0m\n",
      "\u001b[93m215: Guess: $499.00 Truth: $399.99 Error: $99.01 SLE: 0.05 Item: acer Aspire 5 Laptop, AMD Ryzen 3 5300U ...\u001b[0m\n",
      "\u001b[92m216: Guess: $679.00 Truth: $599.00 Error: $80.00 SLE: 0.02 Item: Elk 31080/6RC-GRN 30 by 6-Inch Viva 6-Li...\u001b[0m\n",
      "\u001b[92m217: Guess: $114.99 Truth: $105.99 Error: $9.00 SLE: 0.01 Item: Barbie Top Model Doll\u001b[0m\n",
      "\u001b[92m218: Guess: $649.00 Truth: $689.00 Error: $40.00 SLE: 0.00 Item: Danby Designer 20-In. Electric Range wit...\u001b[0m\n",
      "\u001b[92m219: Guess: $432.53 Truth: $404.99 Error: $27.54 SLE: 0.00 Item: FixtureDisplays® Metal Truss Podium Doub...\u001b[0m\n",
      "\u001b[92m220: Guess: $216.75 Truth: $207.76 Error: $8.99 SLE: 0.00 Item: ACDelco 13597235 GM Original Equipment A...\u001b[0m\n",
      "\u001b[92m221: Guess: $145.88 Truth: $171.82 Error: $25.94 SLE: 0.03 Item: EBC S1KF1135 Stage-1 Premium Street Brak...\u001b[0m\n",
      "\u001b[92m222: Guess: $299.99 Truth: $293.24 Error: $6.75 SLE: 0.00 Item: FXR Men's Boost FX Jacket (Black/Orange/...\u001b[0m\n",
      "\u001b[92m223: Guess: $374.95 Truth: $374.95 Error: $0.00 SLE: 0.00 Item: SuperATV Scratch Resistant 3-in-1 Flip W...\u001b[0m\n",
      "\u001b[92m224: Guess: $111.99 Truth: $111.99 Error: $0.00 SLE: 0.00 Item: SBU 3 Layer All Weather Mini Van Car Cov...\u001b[0m\n",
      "\u001b[92m225: Guess: $34.99 Truth: $42.99 Error: $8.00 SLE: 0.04 Item: 2 Pack Outdoor Brochure Holder Advertisi...\u001b[0m\n",
      "\u001b[92m226: Guess: $125.99 Truth: $116.71 Error: $9.28 SLE: 0.01 Item: Monroe Shocks & Struts Quick-Strut 17158...\u001b[0m\n",
      "\u001b[92m227: Guess: $117.99 Truth: $118.61 Error: $0.62 SLE: 0.00 Item: Elements of Design Magellan EB235AL Thre...\u001b[0m\n",
      "\u001b[92m228: Guess: $124.50 Truth: $147.12 Error: $22.62 SLE: 0.03 Item: GM Genuine Parts 15-62961 Air Conditioni...\u001b[0m\n",
      "\u001b[93m229: Guess: $179.99 Truth: $119.99 Error: $60.00 SLE: 0.16 Item: Baseus 17-in-1 USB C Docking Station to ...\u001b[0m\n",
      "\u001b[93m230: Guess: $469.95 Truth: $369.98 Error: $99.97 SLE: 0.06 Item: Whitehall™ Personalized Whitehall Capito...\u001b[0m\n",
      "\u001b[92m231: Guess: $299.99 Truth: $315.55 Error: $15.56 SLE: 0.00 Item: Pro Circuit Works Pipe PY05250 for 02-19...\u001b[0m\n",
      "\u001b[91m232: Guess: $289.99 Truth: $190.99 Error: $99.00 SLE: 0.17 Item: HYANKA 15 \"1200W Professional DJ Speaker...\u001b[0m\n",
      "\u001b[92m233: Guess: $155.00 Truth: $155.00 Error: $0.00 SLE: 0.00 Item: Bluetooth X6BT Card Reader Writer Encode...\u001b[0m\n",
      "\u001b[92m234: Guess: $394.34 Truth: $349.99 Error: $44.35 SLE: 0.01 Item: AIRAID Cold Air Intake System by K&N: In...\u001b[0m\n",
      "\u001b[91m235: Guess: $389.99 Truth: $249.99 Error: $140.00 SLE: 0.20 Item: Bostingner Shower Faucets Sets Complete,...\u001b[0m\n",
      "\u001b[92m236: Guess: $59.99 Truth: $42.99 Error: $17.00 SLE: 0.11 Item: PIT66 Front Bumper Turn Signal Lights, C...\u001b[0m\n",
      "\u001b[92m237: Guess: $14.99 Truth: $17.99 Error: $3.00 SLE: 0.03 Item: Caseology Bumpy Compatible with Google P...\u001b[0m\n",
      "\u001b[91m238: Guess: $225.00 Truth: $425.00 Error: $200.00 SLE: 0.40 Item: Fleck 2510 Timer Mechanical Filter Contr...\u001b[0m\n",
      "\u001b[91m239: Guess: $349.99 Truth: $249.99 Error: $100.00 SLE: 0.11 Item: Haloview MC7108 Wireless RV Backup Camer...\u001b[0m\n",
      "\u001b[91m240: Guess: $29.99 Truth: $138.23 Error: $108.24 SLE: 2.26 Item: Schmidt Spiele - Manhattan\u001b[0m\n",
      "\u001b[93m241: Guess: $499.99 Truth: $414.99 Error: $85.00 SLE: 0.03 Item: Corsa 14333 Tip Kit (Ford Mustang GT)\u001b[0m\n",
      "\u001b[93m242: Guess: $240.45 Truth: $168.28 Error: $72.17 SLE: 0.13 Item: Hoshizaki FM116A Fan Motor Kit 1\u001b[0m\n",
      "\u001b[93m243: Guess: $239.99 Truth: $199.99 Error: $40.00 SLE: 0.03 Item: BAINUO Antler Chandelier Lighting,6 Ligh...\u001b[0m\n",
      "\u001b[93m244: Guess: $183.99 Truth: $126.70 Error: $57.29 SLE: 0.14 Item: DNA MOTORING HL-OH-FEXP06-SM-AM Smoke Le...\u001b[0m\n",
      "\u001b[92m245: Guess: $8.99 Truth: $5.91 Error: $3.08 SLE: 0.14 Item: Wera Stainless 3840/1 TS 2.5mm Hex Inser...\u001b[0m\n",
      "\u001b[92m246: Guess: $191.94 Truth: $193.06 Error: $1.12 SLE: 0.00 Item: Celestron - PowerSeeker 127EQ Telescope ...\u001b[0m\n",
      "\u001b[93m247: Guess: $169.99 Truth: $249.99 Error: $80.00 SLE: 0.15 Item: NHOPEEW 10.1inch Android Car Radio Carpl...\u001b[0m\n",
      "\u001b[92m248: Guess: $49.99 Truth: $64.12 Error: $14.13 SLE: 0.06 Item: Other Harmonica (Suzuki-2Timer24- A)\u001b[0m\n",
      "\u001b[92m249: Guess: $145.99 Truth: $114.99 Error: $31.00 SLE: 0.06 Item: Harley Air Filter Venturi Intake Air Cle...\u001b[0m\n",
      "\u001b[91m250: Guess: $499.00 Truth: $926.00 Error: $427.00 SLE: 0.38 Item: Elite Screens Edge Free Ambient Light Re...\u001b[0m\n"
     ]
    },
    {
     "data": {
      "image/png": "[encoded data removed]",
      "text/plain": [
       "<Figure size 1200x800 with 1 Axes>"
      ]
     },
     "metadata": {},
     "output_type": "display_data"
    }
   ],
   "source": [
    "Tester.test(gpt_4o_mini_rag, test)"
   ]
  },
  {
   "cell_type": "code",
   "execution_count": 23,
   "id": "e6d5deb3-6a2a-4484-872c-37176c5e1f07",
   "metadata": {},
   "outputs": [],
   "source": [
    "from agents.frontier_agent import FrontierAgent"
   ]
  },
  {
   "cell_type": "code",
   "execution_count": 24,
   "id": "56e8dd5d-ed36-49d8-95f7-dc82e548255b",
   "metadata": {},
   "outputs": [],
   "source": [
    "agent = FrontierAgent(collection)"
   ]
  },
  {
   "cell_type": "code",
   "execution_count": 25,
   "id": "980dd126-f675-4499-8817-0cc0bb73e247",
   "metadata": {},
   "outputs": [
    {
     "data": {
      "text/plain": [
       "154.59"
      ]
     },
     "execution_count": 25,
     "metadata": {},
     "output_type": "execute_result"
    }
   ],
   "source": [
    "agent.price(\"Quadcast HyperX condenser mic for high quality podcasting\")"
   ]
  },
  {
   "cell_type": "code",
   "execution_count": 26,
   "id": "66c18a06-d0f1-4ec9-8aff-ec3ca294dd09",
   "metadata": {},
   "outputs": [],
   "source": [
    "from agents.specialist_agent import SpecialistAgent"
   ]
  },
  {
   "cell_type": "code",
   "execution_count": 28,
   "id": "ba672fb4-2c3e-42ee-9ea0-21bfcfc5260c",
   "metadata": {},
   "outputs": [],
   "source": [
    "agent2 = SpecialistAgent()"
   ]
  },
  {
   "cell_type": "code",
   "execution_count": null,
   "id": "a5a97004-95b4-46ea-b12d-a4ead22fcb2a",
   "metadata": {},
   "outputs": [],
   "source": [
    "agent2.price(\"Quadcast HyperX condenser mic for high quality podcasting\")"
   ]
  }
 ],
 "metadata": {
  "kernelspec": {
   "display_name": "Python 3 (ipykernel)",
   "language": "python",
   "name": "python3"
  },
  "language_info": {
   "codemirror_mode": {
    "name": "ipython",
    "version": 3
   },
   "file_extension": ".py",
   "mimetype": "text/x-python",
   "name": "python",
   "nbconvert_exporter": "python",
   "pygments_lexer": "ipython3",
   "version": "3.11.11"
  }
 },
 "nbformat": 4,
 "nbformat_minor": 5
}
